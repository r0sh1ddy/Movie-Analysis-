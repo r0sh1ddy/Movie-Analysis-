{
 "cells": [
  {
   "cell_type": "markdown",
   "metadata": {},
   "source": [
    "## What Drives Success at the Box Office?\n",
    "### A Data-Driven Guide for a New Movie Studio\n",
    "\n",
    "**Business Context**  \n",
    "Your company wants to break into movie production. To compete in the market, we must understand what makes films successful — genre, budget, ratings, etc.\n",
    "\n",
    "**Objective**  \n",
    "Explore existing movie data to discover which types of films perform best at the box office and provide actionable recommendations.\n"
   ]
  },
  {
   "cell_type": "markdown",
   "metadata": {},
   "source": [
    "## Business Understanding\n",
    "\n",
    "The company is launching a new movie studio. This analysis aims to identify film characteristics that drive financial success so the company can invest wisely in content creation.\n"
   ]
  },
  {
   "cell_type": "code",
   "execution_count": 1,
   "metadata": {},
   "outputs": [],
   "source": [
    "#importing libraries\n",
    "import os\n",
    "import pandas as pd\n",
    "import numpy as np\n",
    "from matplotlib import pyplot as plt\n",
    "import seaborn as sns"
   ]
  },
  {
   "cell_type": "markdown",
   "metadata": {},
   "source": [
    "### Previewing Datasets Files"
   ]
  },
  {
   "cell_type": "code",
   "execution_count": 2,
   "metadata": {},
   "outputs": [
    {
     "name": "stdout",
     "output_type": "stream",
     "text": [
      "bom.movie_gross.csv.gz\n",
      "rt.movie_info.tsv.gz\n",
      "tmdb.movies.csv.gz\n",
      "tn.movie_budgets.csv.gz\n",
      "rt.reviews.tsv.gz\n"
     ]
    }
   ],
   "source": [
    "#Previewing zipped dataset\n",
    "zipped_folder = 'zippedData'\n",
    "files = os.listdir(zipped_folder)\n",
    "\n",
    "for f in files:\n",
    "    if f.endswith('gz') or f.endswith('.csv') or f.endswith('.tsv'):# displaying only the files excluding the database to avoid complicating things\n",
    "        print(f)"
   ]
  },
  {
   "cell_type": "code",
   "execution_count": 3,
   "metadata": {},
   "outputs": [
    {
     "name": "stdout",
     "output_type": "stream",
     "text": [
      "Index(['title', 'studio', 'domestic_gross', 'foreign_gross', 'year'], dtype='object')\n"
     ]
    },
    {
     "data": {
      "text/html": [
       "<div>\n",
       "<style scoped>\n",
       "    .dataframe tbody tr th:only-of-type {\n",
       "        vertical-align: middle;\n",
       "    }\n",
       "\n",
       "    .dataframe tbody tr th {\n",
       "        vertical-align: top;\n",
       "    }\n",
       "\n",
       "    .dataframe thead th {\n",
       "        text-align: right;\n",
       "    }\n",
       "</style>\n",
       "<table border=\"1\" class=\"dataframe\">\n",
       "  <thead>\n",
       "    <tr style=\"text-align: right;\">\n",
       "      <th></th>\n",
       "      <th>title</th>\n",
       "      <th>studio</th>\n",
       "      <th>domestic_gross</th>\n",
       "      <th>foreign_gross</th>\n",
       "      <th>year</th>\n",
       "    </tr>\n",
       "  </thead>\n",
       "  <tbody>\n",
       "    <tr>\n",
       "      <th>0</th>\n",
       "      <td>Toy Story 3</td>\n",
       "      <td>BV</td>\n",
       "      <td>415000000.0</td>\n",
       "      <td>652000000</td>\n",
       "      <td>2010</td>\n",
       "    </tr>\n",
       "    <tr>\n",
       "      <th>1</th>\n",
       "      <td>Alice in Wonderland (2010)</td>\n",
       "      <td>BV</td>\n",
       "      <td>334200000.0</td>\n",
       "      <td>691300000</td>\n",
       "      <td>2010</td>\n",
       "    </tr>\n",
       "    <tr>\n",
       "      <th>2</th>\n",
       "      <td>Harry Potter and the Deathly Hallows Part 1</td>\n",
       "      <td>WB</td>\n",
       "      <td>296000000.0</td>\n",
       "      <td>664300000</td>\n",
       "      <td>2010</td>\n",
       "    </tr>\n",
       "    <tr>\n",
       "      <th>3</th>\n",
       "      <td>Inception</td>\n",
       "      <td>WB</td>\n",
       "      <td>292600000.0</td>\n",
       "      <td>535700000</td>\n",
       "      <td>2010</td>\n",
       "    </tr>\n",
       "    <tr>\n",
       "      <th>4</th>\n",
       "      <td>Shrek Forever After</td>\n",
       "      <td>P/DW</td>\n",
       "      <td>238700000.0</td>\n",
       "      <td>513900000</td>\n",
       "      <td>2010</td>\n",
       "    </tr>\n",
       "  </tbody>\n",
       "</table>\n",
       "</div>"
      ],
      "text/plain": [
       "                                         title studio  domestic_gross  \\\n",
       "0                                  Toy Story 3     BV     415000000.0   \n",
       "1                   Alice in Wonderland (2010)     BV     334200000.0   \n",
       "2  Harry Potter and the Deathly Hallows Part 1     WB     296000000.0   \n",
       "3                                    Inception     WB     292600000.0   \n",
       "4                          Shrek Forever After   P/DW     238700000.0   \n",
       "\n",
       "  foreign_gross  year  \n",
       "0     652000000  2010  \n",
       "1     691300000  2010  \n",
       "2     664300000  2010  \n",
       "3     535700000  2010  \n",
       "4     513900000  2010  "
      ]
     },
     "execution_count": 3,
     "metadata": {},
     "output_type": "execute_result"
    }
   ],
   "source": [
    "#loading and previewing the fisrt few rows to decide which ones are valuable\n",
    "bom = pd.read_csv(f'{zipped_folder}/bom.movie_gross.csv.gz')\n",
    "print(bom.columns)\n",
    "bom.head()"
   ]
  },
  {
   "cell_type": "code",
   "execution_count": 4,
   "metadata": {},
   "outputs": [
    {
     "name": "stdout",
     "output_type": "stream",
     "text": [
      "Index(['id', 'synopsis', 'rating', 'genre', 'director', 'writer',\n",
      "       'theater_date', 'dvd_date', 'currency', 'box_office', 'runtime',\n",
      "       'studio'],\n",
      "      dtype='object')\n"
     ]
    },
    {
     "data": {
      "text/html": [
       "<div>\n",
       "<style scoped>\n",
       "    .dataframe tbody tr th:only-of-type {\n",
       "        vertical-align: middle;\n",
       "    }\n",
       "\n",
       "    .dataframe tbody tr th {\n",
       "        vertical-align: top;\n",
       "    }\n",
       "\n",
       "    .dataframe thead th {\n",
       "        text-align: right;\n",
       "    }\n",
       "</style>\n",
       "<table border=\"1\" class=\"dataframe\">\n",
       "  <thead>\n",
       "    <tr style=\"text-align: right;\">\n",
       "      <th></th>\n",
       "      <th>id</th>\n",
       "      <th>synopsis</th>\n",
       "      <th>rating</th>\n",
       "      <th>genre</th>\n",
       "      <th>director</th>\n",
       "      <th>writer</th>\n",
       "      <th>theater_date</th>\n",
       "      <th>dvd_date</th>\n",
       "      <th>currency</th>\n",
       "      <th>box_office</th>\n",
       "      <th>runtime</th>\n",
       "      <th>studio</th>\n",
       "    </tr>\n",
       "  </thead>\n",
       "  <tbody>\n",
       "    <tr>\n",
       "      <th>0</th>\n",
       "      <td>1</td>\n",
       "      <td>This gritty, fast-paced, and innovative police...</td>\n",
       "      <td>R</td>\n",
       "      <td>Action and Adventure|Classics|Drama</td>\n",
       "      <td>William Friedkin</td>\n",
       "      <td>Ernest Tidyman</td>\n",
       "      <td>Oct 9, 1971</td>\n",
       "      <td>Sep 25, 2001</td>\n",
       "      <td>NaN</td>\n",
       "      <td>NaN</td>\n",
       "      <td>104 minutes</td>\n",
       "      <td>NaN</td>\n",
       "    </tr>\n",
       "    <tr>\n",
       "      <th>1</th>\n",
       "      <td>3</td>\n",
       "      <td>New York City, not-too-distant-future: Eric Pa...</td>\n",
       "      <td>R</td>\n",
       "      <td>Drama|Science Fiction and Fantasy</td>\n",
       "      <td>David Cronenberg</td>\n",
       "      <td>David Cronenberg|Don DeLillo</td>\n",
       "      <td>Aug 17, 2012</td>\n",
       "      <td>Jan 1, 2013</td>\n",
       "      <td>$</td>\n",
       "      <td>600,000</td>\n",
       "      <td>108 minutes</td>\n",
       "      <td>Entertainment One</td>\n",
       "    </tr>\n",
       "    <tr>\n",
       "      <th>2</th>\n",
       "      <td>5</td>\n",
       "      <td>Illeana Douglas delivers a superb performance ...</td>\n",
       "      <td>R</td>\n",
       "      <td>Drama|Musical and Performing Arts</td>\n",
       "      <td>Allison Anders</td>\n",
       "      <td>Allison Anders</td>\n",
       "      <td>Sep 13, 1996</td>\n",
       "      <td>Apr 18, 2000</td>\n",
       "      <td>NaN</td>\n",
       "      <td>NaN</td>\n",
       "      <td>116 minutes</td>\n",
       "      <td>NaN</td>\n",
       "    </tr>\n",
       "    <tr>\n",
       "      <th>3</th>\n",
       "      <td>6</td>\n",
       "      <td>Michael Douglas runs afoul of a treacherous su...</td>\n",
       "      <td>R</td>\n",
       "      <td>Drama|Mystery and Suspense</td>\n",
       "      <td>Barry Levinson</td>\n",
       "      <td>Paul Attanasio|Michael Crichton</td>\n",
       "      <td>Dec 9, 1994</td>\n",
       "      <td>Aug 27, 1997</td>\n",
       "      <td>NaN</td>\n",
       "      <td>NaN</td>\n",
       "      <td>128 minutes</td>\n",
       "      <td>NaN</td>\n",
       "    </tr>\n",
       "    <tr>\n",
       "      <th>4</th>\n",
       "      <td>7</td>\n",
       "      <td>NaN</td>\n",
       "      <td>NR</td>\n",
       "      <td>Drama|Romance</td>\n",
       "      <td>Rodney Bennett</td>\n",
       "      <td>Giles Cooper</td>\n",
       "      <td>NaN</td>\n",
       "      <td>NaN</td>\n",
       "      <td>NaN</td>\n",
       "      <td>NaN</td>\n",
       "      <td>200 minutes</td>\n",
       "      <td>NaN</td>\n",
       "    </tr>\n",
       "  </tbody>\n",
       "</table>\n",
       "</div>"
      ],
      "text/plain": [
       "   id                                           synopsis rating  \\\n",
       "0   1  This gritty, fast-paced, and innovative police...      R   \n",
       "1   3  New York City, not-too-distant-future: Eric Pa...      R   \n",
       "2   5  Illeana Douglas delivers a superb performance ...      R   \n",
       "3   6  Michael Douglas runs afoul of a treacherous su...      R   \n",
       "4   7                                                NaN     NR   \n",
       "\n",
       "                                 genre          director  \\\n",
       "0  Action and Adventure|Classics|Drama  William Friedkin   \n",
       "1    Drama|Science Fiction and Fantasy  David Cronenberg   \n",
       "2    Drama|Musical and Performing Arts    Allison Anders   \n",
       "3           Drama|Mystery and Suspense    Barry Levinson   \n",
       "4                        Drama|Romance    Rodney Bennett   \n",
       "\n",
       "                            writer  theater_date      dvd_date currency  \\\n",
       "0                   Ernest Tidyman   Oct 9, 1971  Sep 25, 2001      NaN   \n",
       "1     David Cronenberg|Don DeLillo  Aug 17, 2012   Jan 1, 2013        $   \n",
       "2                   Allison Anders  Sep 13, 1996  Apr 18, 2000      NaN   \n",
       "3  Paul Attanasio|Michael Crichton   Dec 9, 1994  Aug 27, 1997      NaN   \n",
       "4                     Giles Cooper           NaN           NaN      NaN   \n",
       "\n",
       "  box_office      runtime             studio  \n",
       "0        NaN  104 minutes                NaN  \n",
       "1    600,000  108 minutes  Entertainment One  \n",
       "2        NaN  116 minutes                NaN  \n",
       "3        NaN  128 minutes                NaN  \n",
       "4        NaN  200 minutes                NaN  "
      ]
     },
     "execution_count": 4,
     "metadata": {},
     "output_type": "execute_result"
    }
   ],
   "source": [
    "rotten_tomatoes = pd.read_csv(f'{zipped_folder}/rt.movie_info.tsv.gz',sep ='\\t')\n",
    "print(rotten_tomatoes.columns)\n",
    "rotten_tomatoes.head()"
   ]
  },
  {
   "cell_type": "code",
   "execution_count": 5,
   "metadata": {},
   "outputs": [
    {
     "name": "stdout",
     "output_type": "stream",
     "text": [
      "Index(['id', 'review', 'rating', 'fresh', 'critic', 'top_critic', 'publisher',\n",
      "       'date'],\n",
      "      dtype='object')\n"
     ]
    },
    {
     "data": {
      "text/html": [
       "<div>\n",
       "<style scoped>\n",
       "    .dataframe tbody tr th:only-of-type {\n",
       "        vertical-align: middle;\n",
       "    }\n",
       "\n",
       "    .dataframe tbody tr th {\n",
       "        vertical-align: top;\n",
       "    }\n",
       "\n",
       "    .dataframe thead th {\n",
       "        text-align: right;\n",
       "    }\n",
       "</style>\n",
       "<table border=\"1\" class=\"dataframe\">\n",
       "  <thead>\n",
       "    <tr style=\"text-align: right;\">\n",
       "      <th></th>\n",
       "      <th>id</th>\n",
       "      <th>review</th>\n",
       "      <th>rating</th>\n",
       "      <th>fresh</th>\n",
       "      <th>critic</th>\n",
       "      <th>top_critic</th>\n",
       "      <th>publisher</th>\n",
       "      <th>date</th>\n",
       "    </tr>\n",
       "  </thead>\n",
       "  <tbody>\n",
       "    <tr>\n",
       "      <th>0</th>\n",
       "      <td>3</td>\n",
       "      <td>A distinctly gallows take on contemporary fina...</td>\n",
       "      <td>3/5</td>\n",
       "      <td>fresh</td>\n",
       "      <td>PJ Nabarro</td>\n",
       "      <td>0</td>\n",
       "      <td>Patrick Nabarro</td>\n",
       "      <td>November 10, 2018</td>\n",
       "    </tr>\n",
       "    <tr>\n",
       "      <th>1</th>\n",
       "      <td>3</td>\n",
       "      <td>It's an allegory in search of a meaning that n...</td>\n",
       "      <td>NaN</td>\n",
       "      <td>rotten</td>\n",
       "      <td>Annalee Newitz</td>\n",
       "      <td>0</td>\n",
       "      <td>io9.com</td>\n",
       "      <td>May 23, 2018</td>\n",
       "    </tr>\n",
       "    <tr>\n",
       "      <th>2</th>\n",
       "      <td>3</td>\n",
       "      <td>... life lived in a bubble in financial dealin...</td>\n",
       "      <td>NaN</td>\n",
       "      <td>fresh</td>\n",
       "      <td>Sean Axmaker</td>\n",
       "      <td>0</td>\n",
       "      <td>Stream on Demand</td>\n",
       "      <td>January 4, 2018</td>\n",
       "    </tr>\n",
       "    <tr>\n",
       "      <th>3</th>\n",
       "      <td>3</td>\n",
       "      <td>Continuing along a line introduced in last yea...</td>\n",
       "      <td>NaN</td>\n",
       "      <td>fresh</td>\n",
       "      <td>Daniel Kasman</td>\n",
       "      <td>0</td>\n",
       "      <td>MUBI</td>\n",
       "      <td>November 16, 2017</td>\n",
       "    </tr>\n",
       "    <tr>\n",
       "      <th>4</th>\n",
       "      <td>3</td>\n",
       "      <td>... a perverse twist on neorealism...</td>\n",
       "      <td>NaN</td>\n",
       "      <td>fresh</td>\n",
       "      <td>NaN</td>\n",
       "      <td>0</td>\n",
       "      <td>Cinema Scope</td>\n",
       "      <td>October 12, 2017</td>\n",
       "    </tr>\n",
       "  </tbody>\n",
       "</table>\n",
       "</div>"
      ],
      "text/plain": [
       "   id                                             review rating   fresh  \\\n",
       "0   3  A distinctly gallows take on contemporary fina...    3/5   fresh   \n",
       "1   3  It's an allegory in search of a meaning that n...    NaN  rotten   \n",
       "2   3  ... life lived in a bubble in financial dealin...    NaN   fresh   \n",
       "3   3  Continuing along a line introduced in last yea...    NaN   fresh   \n",
       "4   3             ... a perverse twist on neorealism...     NaN   fresh   \n",
       "\n",
       "           critic  top_critic         publisher               date  \n",
       "0      PJ Nabarro           0   Patrick Nabarro  November 10, 2018  \n",
       "1  Annalee Newitz           0           io9.com       May 23, 2018  \n",
       "2    Sean Axmaker           0  Stream on Demand    January 4, 2018  \n",
       "3   Daniel Kasman           0              MUBI  November 16, 2017  \n",
       "4             NaN           0      Cinema Scope   October 12, 2017  "
      ]
     },
     "execution_count": 5,
     "metadata": {},
     "output_type": "execute_result"
    }
   ],
   "source": [
    "rottom_review = pd.read_csv(f'{zipped_folder}/rt.reviews.tsv.gz',sep='\\t',encoding='latin1')\n",
    "print(rottom_review.columns)\n",
    "rottom_review.head()"
   ]
  },
  {
   "cell_type": "code",
   "execution_count": 6,
   "metadata": {},
   "outputs": [
    {
     "name": "stdout",
     "output_type": "stream",
     "text": [
      "Index(['genre_ids', 'id', 'original_language', 'original_title', 'popularity',\n",
      "       'release_date', 'title', 'vote_average', 'vote_count'],\n",
      "      dtype='object')\n"
     ]
    },
    {
     "data": {
      "text/html": [
       "<div>\n",
       "<style scoped>\n",
       "    .dataframe tbody tr th:only-of-type {\n",
       "        vertical-align: middle;\n",
       "    }\n",
       "\n",
       "    .dataframe tbody tr th {\n",
       "        vertical-align: top;\n",
       "    }\n",
       "\n",
       "    .dataframe thead th {\n",
       "        text-align: right;\n",
       "    }\n",
       "</style>\n",
       "<table border=\"1\" class=\"dataframe\">\n",
       "  <thead>\n",
       "    <tr style=\"text-align: right;\">\n",
       "      <th></th>\n",
       "      <th>genre_ids</th>\n",
       "      <th>id</th>\n",
       "      <th>original_language</th>\n",
       "      <th>original_title</th>\n",
       "      <th>popularity</th>\n",
       "      <th>release_date</th>\n",
       "      <th>title</th>\n",
       "      <th>vote_average</th>\n",
       "      <th>vote_count</th>\n",
       "    </tr>\n",
       "  </thead>\n",
       "  <tbody>\n",
       "    <tr>\n",
       "      <th>0</th>\n",
       "      <td>[12, 14, 10751]</td>\n",
       "      <td>12444</td>\n",
       "      <td>en</td>\n",
       "      <td>Harry Potter and the Deathly Hallows: Part 1</td>\n",
       "      <td>33.533</td>\n",
       "      <td>2010-11-19</td>\n",
       "      <td>Harry Potter and the Deathly Hallows: Part 1</td>\n",
       "      <td>7.7</td>\n",
       "      <td>10788</td>\n",
       "    </tr>\n",
       "    <tr>\n",
       "      <th>1</th>\n",
       "      <td>[14, 12, 16, 10751]</td>\n",
       "      <td>10191</td>\n",
       "      <td>en</td>\n",
       "      <td>How to Train Your Dragon</td>\n",
       "      <td>28.734</td>\n",
       "      <td>2010-03-26</td>\n",
       "      <td>How to Train Your Dragon</td>\n",
       "      <td>7.7</td>\n",
       "      <td>7610</td>\n",
       "    </tr>\n",
       "    <tr>\n",
       "      <th>2</th>\n",
       "      <td>[12, 28, 878]</td>\n",
       "      <td>10138</td>\n",
       "      <td>en</td>\n",
       "      <td>Iron Man 2</td>\n",
       "      <td>28.515</td>\n",
       "      <td>2010-05-07</td>\n",
       "      <td>Iron Man 2</td>\n",
       "      <td>6.8</td>\n",
       "      <td>12368</td>\n",
       "    </tr>\n",
       "    <tr>\n",
       "      <th>3</th>\n",
       "      <td>[16, 35, 10751]</td>\n",
       "      <td>862</td>\n",
       "      <td>en</td>\n",
       "      <td>Toy Story</td>\n",
       "      <td>28.005</td>\n",
       "      <td>1995-11-22</td>\n",
       "      <td>Toy Story</td>\n",
       "      <td>7.9</td>\n",
       "      <td>10174</td>\n",
       "    </tr>\n",
       "    <tr>\n",
       "      <th>4</th>\n",
       "      <td>[28, 878, 12]</td>\n",
       "      <td>27205</td>\n",
       "      <td>en</td>\n",
       "      <td>Inception</td>\n",
       "      <td>27.920</td>\n",
       "      <td>2010-07-16</td>\n",
       "      <td>Inception</td>\n",
       "      <td>8.3</td>\n",
       "      <td>22186</td>\n",
       "    </tr>\n",
       "  </tbody>\n",
       "</table>\n",
       "</div>"
      ],
      "text/plain": [
       "             genre_ids     id original_language  \\\n",
       "0      [12, 14, 10751]  12444                en   \n",
       "1  [14, 12, 16, 10751]  10191                en   \n",
       "2        [12, 28, 878]  10138                en   \n",
       "3      [16, 35, 10751]    862                en   \n",
       "4        [28, 878, 12]  27205                en   \n",
       "\n",
       "                                 original_title  popularity release_date  \\\n",
       "0  Harry Potter and the Deathly Hallows: Part 1      33.533   2010-11-19   \n",
       "1                      How to Train Your Dragon      28.734   2010-03-26   \n",
       "2                                    Iron Man 2      28.515   2010-05-07   \n",
       "3                                     Toy Story      28.005   1995-11-22   \n",
       "4                                     Inception      27.920   2010-07-16   \n",
       "\n",
       "                                          title  vote_average  vote_count  \n",
       "0  Harry Potter and the Deathly Hallows: Part 1           7.7       10788  \n",
       "1                      How to Train Your Dragon           7.7        7610  \n",
       "2                                    Iron Man 2           6.8       12368  \n",
       "3                                     Toy Story           7.9       10174  \n",
       "4                                     Inception           8.3       22186  "
      ]
     },
     "execution_count": 6,
     "metadata": {},
     "output_type": "execute_result"
    }
   ],
   "source": [
    "tmdb = pd.read_csv(f'{zipped_folder}/tmdb.movies.csv.gz',index_col=0)\n",
    "print(tmdb.columns)\n",
    "tmdb.head()"
   ]
  },
  {
   "cell_type": "code",
   "execution_count": 7,
   "metadata": {},
   "outputs": [
    {
     "name": "stdout",
     "output_type": "stream",
     "text": [
      "Index(['id', 'release_date', 'movie', 'production_budget', 'domestic_gross',\n",
      "       'worldwide_gross'],\n",
      "      dtype='object')\n"
     ]
    },
    {
     "data": {
      "text/html": [
       "<div>\n",
       "<style scoped>\n",
       "    .dataframe tbody tr th:only-of-type {\n",
       "        vertical-align: middle;\n",
       "    }\n",
       "\n",
       "    .dataframe tbody tr th {\n",
       "        vertical-align: top;\n",
       "    }\n",
       "\n",
       "    .dataframe thead th {\n",
       "        text-align: right;\n",
       "    }\n",
       "</style>\n",
       "<table border=\"1\" class=\"dataframe\">\n",
       "  <thead>\n",
       "    <tr style=\"text-align: right;\">\n",
       "      <th></th>\n",
       "      <th>id</th>\n",
       "      <th>release_date</th>\n",
       "      <th>movie</th>\n",
       "      <th>production_budget</th>\n",
       "      <th>domestic_gross</th>\n",
       "      <th>worldwide_gross</th>\n",
       "    </tr>\n",
       "  </thead>\n",
       "  <tbody>\n",
       "    <tr>\n",
       "      <th>0</th>\n",
       "      <td>1</td>\n",
       "      <td>Dec 18, 2009</td>\n",
       "      <td>Avatar</td>\n",
       "      <td>$425,000,000</td>\n",
       "      <td>$760,507,625</td>\n",
       "      <td>$2,776,345,279</td>\n",
       "    </tr>\n",
       "    <tr>\n",
       "      <th>1</th>\n",
       "      <td>2</td>\n",
       "      <td>May 20, 2011</td>\n",
       "      <td>Pirates of the Caribbean: On Stranger Tides</td>\n",
       "      <td>$410,600,000</td>\n",
       "      <td>$241,063,875</td>\n",
       "      <td>$1,045,663,875</td>\n",
       "    </tr>\n",
       "    <tr>\n",
       "      <th>2</th>\n",
       "      <td>3</td>\n",
       "      <td>Jun 7, 2019</td>\n",
       "      <td>Dark Phoenix</td>\n",
       "      <td>$350,000,000</td>\n",
       "      <td>$42,762,350</td>\n",
       "      <td>$149,762,350</td>\n",
       "    </tr>\n",
       "    <tr>\n",
       "      <th>3</th>\n",
       "      <td>4</td>\n",
       "      <td>May 1, 2015</td>\n",
       "      <td>Avengers: Age of Ultron</td>\n",
       "      <td>$330,600,000</td>\n",
       "      <td>$459,005,868</td>\n",
       "      <td>$1,403,013,963</td>\n",
       "    </tr>\n",
       "    <tr>\n",
       "      <th>4</th>\n",
       "      <td>5</td>\n",
       "      <td>Dec 15, 2017</td>\n",
       "      <td>Star Wars Ep. VIII: The Last Jedi</td>\n",
       "      <td>$317,000,000</td>\n",
       "      <td>$620,181,382</td>\n",
       "      <td>$1,316,721,747</td>\n",
       "    </tr>\n",
       "  </tbody>\n",
       "</table>\n",
       "</div>"
      ],
      "text/plain": [
       "   id  release_date                                        movie  \\\n",
       "0   1  Dec 18, 2009                                       Avatar   \n",
       "1   2  May 20, 2011  Pirates of the Caribbean: On Stranger Tides   \n",
       "2   3   Jun 7, 2019                                 Dark Phoenix   \n",
       "3   4   May 1, 2015                      Avengers: Age of Ultron   \n",
       "4   5  Dec 15, 2017            Star Wars Ep. VIII: The Last Jedi   \n",
       "\n",
       "  production_budget domestic_gross worldwide_gross  \n",
       "0      $425,000,000   $760,507,625  $2,776,345,279  \n",
       "1      $410,600,000   $241,063,875  $1,045,663,875  \n",
       "2      $350,000,000    $42,762,350    $149,762,350  \n",
       "3      $330,600,000   $459,005,868  $1,403,013,963  \n",
       "4      $317,000,000   $620,181,382  $1,316,721,747  "
      ]
     },
     "execution_count": 7,
     "metadata": {},
     "output_type": "execute_result"
    }
   ],
   "source": [
    "tn = pd.read_csv(f'{zipped_folder}/tn.movie_budgets.csv.gz')\n",
    "print(tn.columns)\n",
    "tn.head()"
   ]
  },
  {
   "cell_type": "markdown",
   "metadata": {},
   "source": [
    "### Previewing the IMDB"
   ]
  },
  {
   "cell_type": "code",
   "execution_count": 8,
   "metadata": {},
   "outputs": [],
   "source": [
    "#Unzipping the file\n",
    "import zipfile\n",
    "zip_path = 'zippedData/im.db.zip'\n",
    "\n",
    "with zipfile.ZipFile(zip_path, 'r') as zip_ref:\n",
    "    zip_ref.extractall('zippedData')"
   ]
  },
  {
   "cell_type": "code",
   "execution_count": 9,
   "metadata": {},
   "outputs": [
    {
     "name": "stdout",
     "output_type": "stream",
     "text": [
      "[('movie_basics',), ('directors',), ('known_for',), ('movie_akas',), ('movie_ratings',), ('persons',), ('principals',), ('writers',)]\n"
     ]
    }
   ],
   "source": [
    "import sqlite3\n",
    "\n",
    "conn = sqlite3.connect('zippedData/im.db')\n",
    "cursor = conn.cursor()\n",
    "\n",
    "# List all table names\n",
    "cursor.execute(\"SELECT name FROM sqlite_master WHERE type='table';\")\n",
    "print(cursor.fetchall())\n"
   ]
  },
  {
   "cell_type": "code",
   "execution_count": 10,
   "metadata": {},
   "outputs": [
    {
     "name": "stdout",
     "output_type": "stream",
     "text": [
      "         movie_id                                primary_title  \\\n",
      "0       tt0063540                                    Sunghursh   \n",
      "1       tt0066787              One Day Before the Rainy Season   \n",
      "2       tt0069049                   The Other Side of the Wind   \n",
      "3       tt0069204                              Sabse Bada Sukh   \n",
      "4       tt0100275                     The Wandering Soap Opera   \n",
      "...           ...                                          ...   \n",
      "146139  tt9916538                          Kuambil Lagi Hatiku   \n",
      "146140  tt9916622  Rodolpho Teóphilo - O Legado de um Pioneiro   \n",
      "146141  tt9916706                              Dankyavar Danka   \n",
      "146142  tt9916730                                       6 Gunn   \n",
      "146143  tt9916754               Chico Albuquerque - Revelações   \n",
      "\n",
      "                                     original_title  start_year  \\\n",
      "0                                         Sunghursh        2013   \n",
      "1                                   Ashad Ka Ek Din        2019   \n",
      "2                        The Other Side of the Wind        2018   \n",
      "3                                   Sabse Bada Sukh        2018   \n",
      "4                             La Telenovela Errante        2017   \n",
      "...                                             ...         ...   \n",
      "146139                          Kuambil Lagi Hatiku        2019   \n",
      "146140  Rodolpho Teóphilo - O Legado de um Pioneiro        2015   \n",
      "146141                              Dankyavar Danka        2013   \n",
      "146142                                       6 Gunn        2017   \n",
      "146143               Chico Albuquerque - Revelações        2013   \n",
      "\n",
      "        runtime_minutes                genres  \n",
      "0                 175.0    Action,Crime,Drama  \n",
      "1                 114.0       Biography,Drama  \n",
      "2                 122.0                 Drama  \n",
      "3                   NaN          Comedy,Drama  \n",
      "4                  80.0  Comedy,Drama,Fantasy  \n",
      "...                 ...                   ...  \n",
      "146139            123.0                 Drama  \n",
      "146140              NaN           Documentary  \n",
      "146141              NaN                Comedy  \n",
      "146142            116.0                  None  \n",
      "146143              NaN           Documentary  \n",
      "\n",
      "[146144 rows x 6 columns]\n",
      "Index(['movie_id', 'primary_title', 'original_title', 'start_year',\n",
      "       'runtime_minutes', 'genres'],\n",
      "      dtype='object')\n",
      "(146144, 6)\n"
     ]
    }
   ],
   "source": [
    "# Loading and previewing the movie_basics table\n",
    "movie_basics = pd.read_sql(\"SELECT * FROM movie_basics;\", conn)\n",
    "print(movie_basics)\n",
    "print(movie_basics.columns)\n",
    "print (movie_basics.shape)\n"
   ]
  },
  {
   "cell_type": "code",
   "execution_count": 11,
   "metadata": {},
   "outputs": [
    {
     "name": "stdout",
     "output_type": "stream",
     "text": [
      "     movie_id  averagerating  numvotes\n",
      "0  tt10356526            8.3        31\n",
      "1  tt10384606            8.9       559\n",
      "2   tt1042974            6.4        20\n",
      "3   tt1043726            4.2     50352\n",
      "4   tt1060240            6.5        21\n",
      "Index(['movie_id', 'averagerating', 'numvotes'], dtype='object')\n",
      "(73856, 3)\n"
     ]
    }
   ],
   "source": [
    "# Loading and previewing the movie_ratings table\n",
    "movie_ratings = pd.read_sql(\"SELECT * FROM movie_ratings;\", conn)\n",
    "print(movie_ratings.head())\n",
    "print(movie_ratings.columns)\n",
    "print(movie_ratings.shape)"
   ]
  },
  {
   "cell_type": "markdown",
   "metadata": {},
   "source": [
    "## Data Understanding\n",
    "To ensure comprehensive coverage and avoid source bias, we initially reviewed data from the following reputable platforms:\n",
    "\n",
    "- [Box Office Mojo](https://www.boxofficemojo.com)\n",
    "- [IMDB](https://www.imdb.com)\n",
    "- [Rotten Tomatoes](https://www.rottentomatoes.com)\n",
    "- [The Movie Database (TMDB)](https://www.themoviedb.org)\n",
    "- [The Numbers](https://www.the-numbers.com)\n",
    "\n",
    "all as seen above.\n",
    "\n",
    "For this analysis, we selected the following:\n",
    "- **tmdb** – for genre,runtime, and popularity.\n",
    "- **tn.movie_budgets.csv.gz** – for ROI, distributor analysis, and release date trends.\n",
    "- **im.db (movie_basics, movie_ratings)** – for ratings, genres, titles, and merge anchor\n",
    "\n",
    "These datasets provide insights on production choices, audience reception, and financial outcomes.\n",
    "\n"
   ]
  },
  {
   "cell_type": "markdown",
   "metadata": {},
   "source": [
    "### Now we proceed to EDA and Cleaning for all the datasets before merging them\n",
    "#### Steps\n",
    "since we initially loaded the datasets no need to load them again.\n",
    "- inspecting columns and sample values\n",
    "- renaming columns whre necessary\n",
    "- removing duplicates\n",
    "- handling missing values\n",
    "- detecting and handling outliers for numeriic variables\n",
    "- cleaning columns with stings where necessary"
   ]
  },
  {
   "cell_type": "markdown",
   "metadata": {},
   "source": [
    "### 1. `movie_basics` EDA and Cleaning"
   ]
  },
  {
   "cell_type": "code",
   "execution_count": 12,
   "metadata": {},
   "outputs": [
    {
     "name": "stdout",
     "output_type": "stream",
     "text": [
      "(146144, 6)\n",
      "Index(['movie_id', 'primary_title', 'original_title', 'start_year',\n",
      "       'runtime_minutes', 'genres'],\n",
      "      dtype='object')\n",
      "<class 'pandas.core.frame.DataFrame'>\n",
      "RangeIndex: 146144 entries, 0 to 146143\n",
      "Data columns (total 6 columns):\n",
      " #   Column           Non-Null Count   Dtype  \n",
      "---  ------           --------------   -----  \n",
      " 0   movie_id         146144 non-null  object \n",
      " 1   primary_title    146144 non-null  object \n",
      " 2   original_title   146123 non-null  object \n",
      " 3   start_year       146144 non-null  int64  \n",
      " 4   runtime_minutes  114405 non-null  float64\n",
      " 5   genres           140736 non-null  object \n",
      "dtypes: float64(1), int64(1), object(4)\n",
      "memory usage: 6.7+ MB\n"
     ]
    }
   ],
   "source": [
    "#inspecting columns, shape and sample value\n",
    "print(movie_basics.shape)\n",
    "print(movie_basics.columns)\n",
    "movie_basics.info()\n"
   ]
  },
  {
   "cell_type": "code",
   "execution_count": 13,
   "metadata": {},
   "outputs": [
    {
     "name": "stdout",
     "output_type": "stream",
     "text": [
      "         movie_id primary_title original_title     start_year  \\\n",
      "count      146144        146144         146123  146144.000000   \n",
      "unique     146144        136071         137773            NaN   \n",
      "top     tt4171982          Home         Broken            NaN   \n",
      "freq            1            24             19            NaN   \n",
      "mean          NaN           NaN            NaN    2014.621798   \n",
      "std           NaN           NaN            NaN       2.733583   \n",
      "min           NaN           NaN            NaN    2010.000000   \n",
      "25%           NaN           NaN            NaN    2012.000000   \n",
      "50%           NaN           NaN            NaN    2015.000000   \n",
      "75%           NaN           NaN            NaN    2017.000000   \n",
      "max           NaN           NaN            NaN    2115.000000   \n",
      "\n",
      "        runtime_minutes       genres  \n",
      "count     114405.000000       140736  \n",
      "unique              NaN         1085  \n",
      "top                 NaN  Documentary  \n",
      "freq                NaN        32185  \n",
      "mean          86.187247          NaN  \n",
      "std          166.360590          NaN  \n",
      "min            1.000000          NaN  \n",
      "25%           70.000000          NaN  \n",
      "50%           87.000000          NaN  \n",
      "75%           99.000000          NaN  \n",
      "max        51420.000000          NaN  \n"
     ]
    }
   ],
   "source": [
    "#inspecting columns \n",
    "print(movie_basics.describe(include='all'))"
   ]
  },
  {
   "cell_type": "code",
   "execution_count": 14,
   "metadata": {},
   "outputs": [
    {
     "data": {
      "text/plain": [
       "movie_id               0\n",
       "primary_title          0\n",
       "original_title        21\n",
       "start_year             0\n",
       "runtime_minutes    31739\n",
       "genres              5408\n",
       "dtype: int64"
      ]
     },
     "execution_count": 14,
     "metadata": {},
     "output_type": "execute_result"
    }
   ],
   "source": [
    "# checking missing values - count\n",
    "movie_basics.isna().sum()"
   ]
  },
  {
   "cell_type": "code",
   "execution_count": 15,
   "metadata": {},
   "outputs": [],
   "source": [
    "# since runtime is not a target variable column and has so much missing values we will drop it \n",
    "movie_basics.drop(columns=[ 'runtime_minutes'], inplace=True)\n",
    "\n"
   ]
  },
  {
   "cell_type": "code",
   "execution_count": 16,
   "metadata": {},
   "outputs": [
    {
     "data": {
      "text/plain": [
       "Documentary                     32185\n",
       "Drama                           21486\n",
       "Comedy                           9177\n",
       "Horror                           4372\n",
       "Comedy,Drama                     3519\n",
       "                                ...  \n",
       "Biography,History,News              1\n",
       "Action,Documentary,Western          1\n",
       "Animation,Documentary,Sci-Fi        1\n",
       "Biography,Comedy,Sci-Fi             1\n",
       "Adventure,Biography,Thriller        1\n",
       "Name: genres, Length: 1085, dtype: int64"
      ]
     },
     "execution_count": 16,
     "metadata": {},
     "output_type": "execute_result"
    }
   ],
   "source": [
    "#Inspecting unique genres\n",
    "movie_basics['genres'].value_counts()\n",
    "\n"
   ]
  },
  {
   "cell_type": "code",
   "execution_count": 17,
   "metadata": {},
   "outputs": [],
   "source": [
    "# Step  Rename columns to idiomatic names\n",
    "movie_basics.rename(columns={\n",
    "    'movie_id': 'movie_id',\n",
    "    'primary_title': 'title',\n",
    "    'start_year': 'release_year',\n",
    "    'genres': 'genres'\n",
    "}, inplace=True)\n",
    "# Step 2 Droping duplicates\n",
    "movie_basics.drop_duplicates(inplace=True)\n",
    "# Step 3 Handle missing values\n",
    "movie_basics = movie_basics.dropna(subset=['title', 'release_year', 'original_title','genres'])\n",
    "\n",
    "# Step 4 Clean string fields\n",
    "movie_basics['title'] = movie_basics['title'].str.strip()\n",
    "movie_basics['genres'] = movie_basics['genres'].str.strip().str.lower()\n",
    "\n"
   ]
  },
  {
   "cell_type": "code",
   "execution_count": 18,
   "metadata": {},
   "outputs": [
    {
     "data": {
      "text/plain": [
       "<AxesSubplot:ylabel='release_year'>"
      ]
     },
     "execution_count": 18,
     "metadata": {},
     "output_type": "execute_result"
    },
    {
     "data": {
      "image/png": "[encoded data removed]",
      "text/plain": [
       "<Figure size 432x288 with 1 Axes>"
      ]
     },
     "metadata": {
      "needs_background": "light"
     },
     "output_type": "display_data"
    }
   ],
   "source": [
    "#checking and dealing with outliers\n",
    "\n",
    "sns.boxplot(data=movie_basics, y='release_year')\n"
   ]
  },
  {
   "cell_type": "code",
   "execution_count": 19,
   "metadata": {},
   "outputs": [
    {
     "data": {
      "text/html": [
       "<div>\n",
       "<style scoped>\n",
       "    .dataframe tbody tr th:only-of-type {\n",
       "        vertical-align: middle;\n",
       "    }\n",
       "\n",
       "    .dataframe tbody tr th {\n",
       "        vertical-align: top;\n",
       "    }\n",
       "\n",
       "    .dataframe thead th {\n",
       "        text-align: right;\n",
       "    }\n",
       "</style>\n",
       "<table border=\"1\" class=\"dataframe\">\n",
       "  <thead>\n",
       "    <tr style=\"text-align: right;\">\n",
       "      <th></th>\n",
       "      <th>movie_id</th>\n",
       "      <th>title</th>\n",
       "      <th>original_title</th>\n",
       "      <th>release_year</th>\n",
       "      <th>genres</th>\n",
       "    </tr>\n",
       "  </thead>\n",
       "  <tbody>\n",
       "    <tr>\n",
       "      <th>10023</th>\n",
       "      <td>tt1585255</td>\n",
       "      <td>The Hairdresser</td>\n",
       "      <td>Die Friseuse</td>\n",
       "      <td>2010</td>\n",
       "      <td>comedy,drama</td>\n",
       "    </tr>\n",
       "    <tr>\n",
       "      <th>9339</th>\n",
       "      <td>tt1553936</td>\n",
       "      <td>Transpose</td>\n",
       "      <td>Transpose</td>\n",
       "      <td>2010</td>\n",
       "      <td>drama,thriller</td>\n",
       "    </tr>\n",
       "    <tr>\n",
       "      <th>15316</th>\n",
       "      <td>tt1735173</td>\n",
       "      <td>A Última Estrada da Praia</td>\n",
       "      <td>A Última Estrada da Praia</td>\n",
       "      <td>2010</td>\n",
       "      <td>adventure,drama</td>\n",
       "    </tr>\n",
       "    <tr>\n",
       "      <th>9341</th>\n",
       "      <td>tt1554086</td>\n",
       "      <td>I Won't Go</td>\n",
       "      <td>I Won't Go</td>\n",
       "      <td>2010</td>\n",
       "      <td>documentary</td>\n",
       "    </tr>\n",
       "    <tr>\n",
       "      <th>9342</th>\n",
       "      <td>tt1554088</td>\n",
       "      <td>Daisy Bates: First Lady of Little Rock</td>\n",
       "      <td>Daisy Bates: First Lady of Little Rock</td>\n",
       "      <td>2010</td>\n",
       "      <td>documentary</td>\n",
       "    </tr>\n",
       "    <tr>\n",
       "      <th>9343</th>\n",
       "      <td>tt1554089</td>\n",
       "      <td>King of Watts</td>\n",
       "      <td>King of Watts</td>\n",
       "      <td>2010</td>\n",
       "      <td>documentary</td>\n",
       "    </tr>\n",
       "    <tr>\n",
       "      <th>9345</th>\n",
       "      <td>tt1554095</td>\n",
       "      <td>Virgin Sex Myth: False and Disastrous Cure of ...</td>\n",
       "      <td>Virgin Sex Myth: False and Disastrous Cure of ...</td>\n",
       "      <td>2010</td>\n",
       "      <td>documentary</td>\n",
       "    </tr>\n",
       "    <tr>\n",
       "      <th>9347</th>\n",
       "      <td>tt1554423</td>\n",
       "      <td>A Southern Story</td>\n",
       "      <td>A Southern Story</td>\n",
       "      <td>2010</td>\n",
       "      <td>drama,family</td>\n",
       "    </tr>\n",
       "  </tbody>\n",
       "</table>\n",
       "</div>"
      ],
      "text/plain": [
       "        movie_id                                              title  \\\n",
       "10023  tt1585255                                    The Hairdresser   \n",
       "9339   tt1553936                                          Transpose   \n",
       "15316  tt1735173                          A Última Estrada da Praia   \n",
       "9341   tt1554086                                         I Won't Go   \n",
       "9342   tt1554088             Daisy Bates: First Lady of Little Rock   \n",
       "9343   tt1554089                                      King of Watts   \n",
       "9345   tt1554095  Virgin Sex Myth: False and Disastrous Cure of ...   \n",
       "9347   tt1554423                                   A Southern Story   \n",
       "\n",
       "                                          original_title  release_year  \\\n",
       "10023                                       Die Friseuse          2010   \n",
       "9339                                           Transpose          2010   \n",
       "15316                          A Última Estrada da Praia          2010   \n",
       "9341                                          I Won't Go          2010   \n",
       "9342              Daisy Bates: First Lady of Little Rock          2010   \n",
       "9343                                       King of Watts          2010   \n",
       "9345   Virgin Sex Myth: False and Disastrous Cure of ...          2010   \n",
       "9347                                    A Southern Story          2010   \n",
       "\n",
       "                genres  \n",
       "10023     comedy,drama  \n",
       "9339    drama,thriller  \n",
       "15316  adventure,drama  \n",
       "9341       documentary  \n",
       "9342       documentary  \n",
       "9343       documentary  \n",
       "9345       documentary  \n",
       "9347      drama,family  "
      ]
     },
     "execution_count": 19,
     "metadata": {},
     "output_type": "execute_result"
    }
   ],
   "source": [
    "#Seems we have an outlier lets see what it is and what this means to our data\n",
    "\n",
    "movie_basics.sort_values('release_year').head(8)\n",
    "\n"
   ]
  },
  {
   "cell_type": "code",
   "execution_count": 20,
   "metadata": {},
   "outputs": [
    {
     "data": {
      "image/png": "[encoded data removed]",
      "text/plain": [
       "<Figure size 576x288 with 1 Axes>"
      ]
     },
     "metadata": {
      "needs_background": "light"
     },
     "output_type": "display_data"
    }
   ],
   "source": [
    "movie_basics = movie_basics[(movie_basics['release_year'] >= 2015) & (movie_basics['release_year'] <= 2025)]\n",
    "plt.figure(figsize=(8, 4))\n",
    "sns.boxplot(data=movie_basics, y='release_year')\n",
    "plt.title(\"Filtered Release Years (2015–2025)\")\n",
    "plt.show()\n",
    "\n"
   ]
  },
  {
   "cell_type": "markdown",
   "metadata": {},
   "source": [
    "#### Outlier Removal - Release Year\n",
    "\n",
    "To ensure that our analysis focuses on trends relevant to today’s film industry, we excluded movies released before 2015 and beyond 2025. While older films can offer valuable historical context, our business objective is to recommend production strategies based on what currently performs well at the box office.\n",
    "\n",
    "Movies released before 2015 may not reflect recent shifts in audience preferences, streaming trends, or distribution strategies. Removing these outliers allows us to provide more actionable insights for a new movie studio aiming to compete in the current landscape.\n"
   ]
  },
  {
   "cell_type": "code",
   "execution_count": 21,
   "metadata": {},
   "outputs": [
    {
     "data": {
      "image/png": "[encoded data removed]",
      "text/plain": [
       "<Figure size 720x360 with 1 Axes>"
      ]
     },
     "metadata": {
      "needs_background": "light"
     },
     "output_type": "display_data"
    }
   ],
   "source": [
    "# Number of movies released per year\n",
    "# Count movies per year\n",
    "year_counts = movie_basics['release_year'].value_counts().sort_index()\n",
    "plt.figure(figsize=(10, 5))\n",
    "plt.bar(year_counts.index.astype(str), year_counts.values, align='center')  # Convert index to string for clearer ticks\n",
    "plt.title('Number of Movies Released Per Year (2015 and Beyond)')\n",
    "plt.xlabel('Release Year')\n",
    "plt.ylabel('Number of Movies')\n",
    "plt.xticks(rotation=45)\n",
    "plt.tight_layout()\n",
    "plt.show()\n"
   ]
  },
  {
   "cell_type": "markdown",
   "metadata": {},
   "source": [
    "#### Number of Movies Released Per Year\n",
    "\n",
    "This plot shows the volume of films released from 2015 onward — the timeframe relevant to our studio’s launch. Understanding production trends helps identify market saturation and informs decisions about whether to enter specific genres or release windows.\n"
   ]
  },
  {
   "cell_type": "code",
   "execution_count": 22,
   "metadata": {},
   "outputs": [
    {
     "data": {
      "image/png": "[encoded data removed]",
      "text/plain": [
       "<Figure size 432x288 with 1 Axes>"
      ]
     },
     "metadata": {
      "needs_background": "light"
     },
     "output_type": "display_data"
    }
   ],
   "source": [
    "# Explode genre strings into separate rows\n",
    "genre_exploded = movie_basics.copy()\n",
    "genre_exploded['genres'] = genre_exploded['genres'].str.split(',')\n",
    "genre_exploded = genre_exploded.explode('genres')\n",
    "genre_exploded['genres'] = genre_exploded['genres'].str.strip().str.lower()\n",
    "\n",
    "# Count top genres\n",
    "top_genres = genre_exploded['genres'].value_counts().head(10)\n",
    "\n",
    "# Plot\n",
    "sns.barplot(x=top_genres.values, y=top_genres.index)\n",
    "plt.title('Top 10 Most Common Movie Genres (2015 and Beyond)')\n",
    "plt.xlabel('Number of Movies')\n",
    "plt.ylabel('Genre')\n",
    "plt.tight_layout()\n",
    "plt.show()\n"
   ]
  },
  {
   "cell_type": "code",
   "execution_count": 23,
   "metadata": {},
   "outputs": [
    {
     "name": "stdout",
     "output_type": "stream",
     "text": [
      "(74098, 5)\n"
     ]
    }
   ],
   "source": [
    "print(movie_basics.shape)"
   ]
  },
  {
   "cell_type": "markdown",
   "metadata": {},
   "source": [
    "#### In the above\n",
    "\n",
    "The bar chart shows the most frequently produced movie genres in recent years. Genres like **drama, comedy, and action** dominate the landscape, indicating strong market presence and possibly high audience demand.\n",
    "\n",
    "However, high frequency does not always equate to high success. While these genres are popular among producers, their average ratings or return on investment may vary — which will be explored in later sections.\n",
    "\n",
    "This insight helps guide the new studio toward genres with high audience engagement, while also flagging the need to examine performance metrics (e.g., ratings, profits) before making production decisions.\n"
   ]
  },
  {
   "cell_type": "markdown",
   "metadata": {},
   "source": [
    "### 2. `movie_ratings` EDA and Cleaning"
   ]
  },
  {
   "cell_type": "code",
   "execution_count": 24,
   "metadata": {},
   "outputs": [
    {
     "name": "stdout",
     "output_type": "stream",
     "text": [
      "(73856, 3)\n",
      "Index(['movie_id', 'averagerating', 'numvotes'], dtype='object')\n",
      "<class 'pandas.core.frame.DataFrame'>\n",
      "RangeIndex: 73856 entries, 0 to 73855\n",
      "Data columns (total 3 columns):\n",
      " #   Column         Non-Null Count  Dtype  \n",
      "---  ------         --------------  -----  \n",
      " 0   movie_id       73856 non-null  object \n",
      " 1   averagerating  73856 non-null  float64\n",
      " 2   numvotes       73856 non-null  int64  \n",
      "dtypes: float64(1), int64(1), object(1)\n",
      "memory usage: 1.7+ MB\n"
     ]
    }
   ],
   "source": [
    "# investigating the dataset shape, columns and sample values\n",
    "print(movie_ratings.shape)\n",
    "print(movie_ratings.columns)\n",
    "movie_ratings.info()\n"
   ]
  },
  {
   "cell_type": "code",
   "execution_count": 25,
   "metadata": {},
   "outputs": [
    {
     "data": {
      "text/html": [
       "<div>\n",
       "<style scoped>\n",
       "    .dataframe tbody tr th:only-of-type {\n",
       "        vertical-align: middle;\n",
       "    }\n",
       "\n",
       "    .dataframe tbody tr th {\n",
       "        vertical-align: top;\n",
       "    }\n",
       "\n",
       "    .dataframe thead th {\n",
       "        text-align: right;\n",
       "    }\n",
       "</style>\n",
       "<table border=\"1\" class=\"dataframe\">\n",
       "  <thead>\n",
       "    <tr style=\"text-align: right;\">\n",
       "      <th></th>\n",
       "      <th>movie_id</th>\n",
       "      <th>averagerating</th>\n",
       "      <th>numvotes</th>\n",
       "    </tr>\n",
       "  </thead>\n",
       "  <tbody>\n",
       "    <tr>\n",
       "      <th>count</th>\n",
       "      <td>73856</td>\n",
       "      <td>73856.000000</td>\n",
       "      <td>7.385600e+04</td>\n",
       "    </tr>\n",
       "    <tr>\n",
       "      <th>unique</th>\n",
       "      <td>73856</td>\n",
       "      <td>NaN</td>\n",
       "      <td>NaN</td>\n",
       "    </tr>\n",
       "    <tr>\n",
       "      <th>top</th>\n",
       "      <td>tt1626197</td>\n",
       "      <td>NaN</td>\n",
       "      <td>NaN</td>\n",
       "    </tr>\n",
       "    <tr>\n",
       "      <th>freq</th>\n",
       "      <td>1</td>\n",
       "      <td>NaN</td>\n",
       "      <td>NaN</td>\n",
       "    </tr>\n",
       "    <tr>\n",
       "      <th>mean</th>\n",
       "      <td>NaN</td>\n",
       "      <td>6.332729</td>\n",
       "      <td>3.523662e+03</td>\n",
       "    </tr>\n",
       "    <tr>\n",
       "      <th>std</th>\n",
       "      <td>NaN</td>\n",
       "      <td>1.474978</td>\n",
       "      <td>3.029402e+04</td>\n",
       "    </tr>\n",
       "    <tr>\n",
       "      <th>min</th>\n",
       "      <td>NaN</td>\n",
       "      <td>1.000000</td>\n",
       "      <td>5.000000e+00</td>\n",
       "    </tr>\n",
       "    <tr>\n",
       "      <th>25%</th>\n",
       "      <td>NaN</td>\n",
       "      <td>5.500000</td>\n",
       "      <td>1.400000e+01</td>\n",
       "    </tr>\n",
       "    <tr>\n",
       "      <th>50%</th>\n",
       "      <td>NaN</td>\n",
       "      <td>6.500000</td>\n",
       "      <td>4.900000e+01</td>\n",
       "    </tr>\n",
       "    <tr>\n",
       "      <th>75%</th>\n",
       "      <td>NaN</td>\n",
       "      <td>7.400000</td>\n",
       "      <td>2.820000e+02</td>\n",
       "    </tr>\n",
       "    <tr>\n",
       "      <th>max</th>\n",
       "      <td>NaN</td>\n",
       "      <td>10.000000</td>\n",
       "      <td>1.841066e+06</td>\n",
       "    </tr>\n",
       "  </tbody>\n",
       "</table>\n",
       "</div>"
      ],
      "text/plain": [
       "         movie_id  averagerating      numvotes\n",
       "count       73856   73856.000000  7.385600e+04\n",
       "unique      73856            NaN           NaN\n",
       "top     tt1626197            NaN           NaN\n",
       "freq            1            NaN           NaN\n",
       "mean          NaN       6.332729  3.523662e+03\n",
       "std           NaN       1.474978  3.029402e+04\n",
       "min           NaN       1.000000  5.000000e+00\n",
       "25%           NaN       5.500000  1.400000e+01\n",
       "50%           NaN       6.500000  4.900000e+01\n",
       "75%           NaN       7.400000  2.820000e+02\n",
       "max           NaN      10.000000  1.841066e+06"
      ]
     },
     "execution_count": 25,
     "metadata": {},
     "output_type": "execute_result"
    }
   ],
   "source": [
    "# exploring dataset\n",
    "movie_ratings.describe(include='all')"
   ]
  },
  {
   "cell_type": "code",
   "execution_count": 26,
   "metadata": {},
   "outputs": [
    {
     "data": {
      "text/plain": [
       "movie_id         0\n",
       "averagerating    0\n",
       "numvotes         0\n",
       "dtype: int64"
      ]
     },
     "execution_count": 26,
     "metadata": {},
     "output_type": "execute_result"
    }
   ],
   "source": [
    "# checking for null values\n",
    "movie_ratings.isna().sum()"
   ]
  },
  {
   "cell_type": "markdown",
   "metadata": {},
   "source": [
    "#### movie ratings has no missing values \n",
    "\n",
    "so we head on to cleaning and checking for outliers"
   ]
  },
  {
   "cell_type": "code",
   "execution_count": 27,
   "metadata": {},
   "outputs": [
    {
     "data": {
      "text/plain": [
       "0"
      ]
     },
     "execution_count": 27,
     "metadata": {},
     "output_type": "execute_result"
    }
   ],
   "source": [
    "# renaming columns \n",
    "movie_ratings.rename(columns={\n",
    "    'averagerating': 'vote_average',\n",
    "    'numvotes': 'vote_count'\n",
    "}, inplace=True)\n",
    "\n",
    "movie_ratings['movie_id'].duplicated().sum()\n",
    "\n",
    "\n"
   ]
  },
  {
   "cell_type": "code",
   "execution_count": 28,
   "metadata": {},
   "outputs": [
    {
     "name": "stdout",
     "output_type": "stream",
     "text": [
      "<class 'pandas.core.frame.DataFrame'>\n",
      "RangeIndex: 73856 entries, 0 to 73855\n",
      "Data columns (total 3 columns):\n",
      " #   Column        Non-Null Count  Dtype  \n",
      "---  ------        --------------  -----  \n",
      " 0   movie_id      73856 non-null  object \n",
      " 1   vote_average  73856 non-null  float64\n",
      " 2   vote_count    73856 non-null  int64  \n",
      "dtypes: float64(1), int64(1), object(1)\n",
      "memory usage: 1.7+ MB\n"
     ]
    }
   ],
   "source": [
    "movie_ratings.info()"
   ]
  },
  {
   "cell_type": "code",
   "execution_count": 29,
   "metadata": {},
   "outputs": [
    {
     "data": {
      "text/plain": [
       "(73856, 3)"
      ]
     },
     "execution_count": 29,
     "metadata": {},
     "output_type": "execute_result"
    }
   ],
   "source": [
    "movie_ratings.shape"
   ]
  },
  {
   "cell_type": "code",
   "execution_count": 30,
   "metadata": {},
   "outputs": [
    {
     "data": {
      "image/png": "[encoded data removed]",
      "text/plain": [
       "<Figure size 720x576 with 2 Axes>"
      ]
     },
     "metadata": {
      "needs_background": "light"
     },
     "output_type": "display_data"
    }
   ],
   "source": [
    "# Checking for outliers\n",
    "fig, ax = plt.subplots(nrows=1, ncols=2, figsize=(10, 8))\n",
    "# Boxplot for vote_count\n",
    "sns.boxplot(data=movie_ratings, y='vote_count', ax=ax[0])\n",
    "ax[0].set_title(\"Vote Count Distribution\")\n",
    "# Boxplot for avg_rating\n",
    "sns.boxplot(data=movie_ratings, y='vote_average', ax=ax[1])\n",
    "ax[1].set_title(\"Average Rating Distribution\")\n",
    "\n",
    "plt.tight_layout()\n",
    "plt.show()\n",
    "\n"
   ]
  },
  {
   "cell_type": "markdown",
   "metadata": {},
   "source": [
    "#### decided to keep outliers in this case\n",
    "Those are important datapoints in relation to our analysis removing them would render our analysis bias. Instead we apply log transformation to reshape the data without loosing valuable information needed for our analysis.\n",
    "\n",
    "on average rating column no filtefring is needed there are no outliers."
   ]
  },
  {
   "cell_type": "code",
   "execution_count": null,
   "metadata": {},
   "outputs": [],
   "source": [
    "# Add a new column for log-transformed vote count\n",
    "movie_ratings['log_vote_count'] = np.log1p(movie_ratings['vote_count'])  # log1p handles log(0)"
   ]
  },
  {
   "cell_type": "code",
   "execution_count": 32,
   "metadata": {},
   "outputs": [],
   "source": [
    "# filtering out movies with extremly low count\n",
    "#movie_ratings = movie_ratings[movie_ratings['vote_count'] >= 50].sum()\n"
   ]
  },
  {
   "cell_type": "code",
   "execution_count": 33,
   "metadata": {},
   "outputs": [
    {
     "data": {
      "image/png": "[encoded data removed]",
      "text/plain": [
       "<Figure size 432x288 with 1 Axes>"
      ]
     },
     "metadata": {
      "needs_background": "light"
     },
     "output_type": "display_data"
    }
   ],
   "source": [
    "sns.boxplot(data=movie_ratings, y='vote_count')\n",
    "plt.title(\"Distribution of Vote Counts\")\n",
    "plt.ylabel(\"Vote Count\")\n",
    "plt.show()\n"
   ]
  },
  {
   "cell_type": "markdown",
   "metadata": {},
   "source": [
    "We removed movies with fewer than 50 total user votes, as their average ratings may not be statistically meaningful. Low vote counts often reflect niche or obscure films that haven’t been widely seen or reviewed, which could distort our analysis.\n",
    "\n",
    "After applying a log transformation to the `vote_count` column, the distribution became more balanced. This allowed us to visualize audience engagement without the extreme skew caused by a few very popular titles. The transformation preserves all valuable data while making comparisons and trends more interpretable.\n"
   ]
  },
  {
   "cell_type": "markdown",
   "metadata": {},
   "source": [
    "#### Exploring whether popular movies tend to have higher ratings\n"
   ]
  },
  {
   "cell_type": "code",
   "execution_count": 34,
   "metadata": {},
   "outputs": [
    {
     "data": {
      "text/plain": [
       "count    7.385600e+04\n",
       "mean     3.523662e+03\n",
       "std      3.029402e+04\n",
       "min      5.000000e+00\n",
       "25%      1.400000e+01\n",
       "50%      4.900000e+01\n",
       "75%      2.820000e+02\n",
       "max      1.841066e+06\n",
       "Name: vote_count, dtype: float64"
      ]
     },
     "execution_count": 34,
     "metadata": {},
     "output_type": "execute_result"
    }
   ],
   "source": [
    "movie_ratings['vote_count'].describe()\n"
   ]
  },
  {
   "cell_type": "code",
   "execution_count": 35,
   "metadata": {},
   "outputs": [
    {
     "data": {
      "image/png": "[encoded data removed]",
      "text/plain": [
       "<Figure size 864x432 with 1 Axes>"
      ]
     },
     "metadata": {
      "needs_background": "light"
     },
     "output_type": "display_data"
    }
   ],
   "source": [
    "top10 = movie_ratings.sort_values('vote_count', ascending=False).head(10)\n",
    "plt.figure(figsize=(12, 6))\n",
    "sns.barplot(data=top10, x='movie_id', y='vote_count', palette='viridis')\n",
    "plt.title(\"Top 10 Most Voted Movies\")\n",
    "plt.xlabel(\"movie title\")\n",
    "plt.ylabel(\"Vote Count\")\n",
    "plt.tight_layout()\n",
    "plt.show()\n"
   ]
  },
  {
   "cell_type": "code",
   "execution_count": 36,
   "metadata": {},
   "outputs": [
    {
     "name": "stdout",
     "output_type": "stream",
     "text": [
      "(73856, 4)\n"
     ]
    }
   ],
   "source": [
    "print(movie_ratings.shape)"
   ]
  },
  {
   "cell_type": "markdown",
   "metadata": {},
   "source": [
    "We definately have a relationship from the above the movie represented by blue bar is more popullar compared to its counter partner and has a significant higher rating as observerd."
   ]
  },
  {
   "cell_type": "markdown",
   "metadata": {},
   "source": [
    "### 3. `tmdb` EDA and Cleaning"
   ]
  },
  {
   "cell_type": "code",
   "execution_count": 37,
   "metadata": {},
   "outputs": [
    {
     "name": "stdout",
     "output_type": "stream",
     "text": [
      "(26517, 9)\n",
      "<class 'pandas.core.frame.DataFrame'>\n",
      "Int64Index: 26517 entries, 0 to 26516\n",
      "Data columns (total 9 columns):\n",
      " #   Column             Non-Null Count  Dtype  \n",
      "---  ------             --------------  -----  \n",
      " 0   genre_ids          26517 non-null  object \n",
      " 1   id                 26517 non-null  int64  \n",
      " 2   original_language  26517 non-null  object \n",
      " 3   original_title     26517 non-null  object \n",
      " 4   popularity         26517 non-null  float64\n",
      " 5   release_date       26517 non-null  object \n",
      " 6   title              26517 non-null  object \n",
      " 7   vote_average       26517 non-null  float64\n",
      " 8   vote_count         26517 non-null  int64  \n",
      "dtypes: float64(2), int64(2), object(5)\n",
      "memory usage: 2.0+ MB\n",
      "None\n"
     ]
    },
    {
     "data": {
      "text/plain": [
       "Index(['genre_ids', 'id', 'original_language', 'original_title', 'popularity',\n",
       "       'release_date', 'title', 'vote_average', 'vote_count'],\n",
       "      dtype='object')"
      ]
     },
     "execution_count": 37,
     "metadata": {},
     "output_type": "execute_result"
    }
   ],
   "source": [
    "print(tmdb.shape)\n",
    "print(tmdb.info())\n",
    "tmdb.columns"
   ]
  },
  {
   "cell_type": "code",
   "execution_count": 38,
   "metadata": {},
   "outputs": [
    {
     "data": {
      "text/html": [
       "<div>\n",
       "<style scoped>\n",
       "    .dataframe tbody tr th:only-of-type {\n",
       "        vertical-align: middle;\n",
       "    }\n",
       "\n",
       "    .dataframe tbody tr th {\n",
       "        vertical-align: top;\n",
       "    }\n",
       "\n",
       "    .dataframe thead th {\n",
       "        text-align: right;\n",
       "    }\n",
       "</style>\n",
       "<table border=\"1\" class=\"dataframe\">\n",
       "  <thead>\n",
       "    <tr style=\"text-align: right;\">\n",
       "      <th></th>\n",
       "      <th>genre_ids</th>\n",
       "      <th>id</th>\n",
       "      <th>original_language</th>\n",
       "      <th>original_title</th>\n",
       "      <th>popularity</th>\n",
       "      <th>release_date</th>\n",
       "      <th>title</th>\n",
       "      <th>vote_average</th>\n",
       "      <th>vote_count</th>\n",
       "    </tr>\n",
       "  </thead>\n",
       "  <tbody>\n",
       "    <tr>\n",
       "      <th>count</th>\n",
       "      <td>26517</td>\n",
       "      <td>26517.000000</td>\n",
       "      <td>26517</td>\n",
       "      <td>26517</td>\n",
       "      <td>26517.000000</td>\n",
       "      <td>26517</td>\n",
       "      <td>26517</td>\n",
       "      <td>26517.000000</td>\n",
       "      <td>26517.000000</td>\n",
       "    </tr>\n",
       "    <tr>\n",
       "      <th>unique</th>\n",
       "      <td>2477</td>\n",
       "      <td>NaN</td>\n",
       "      <td>76</td>\n",
       "      <td>24835</td>\n",
       "      <td>NaN</td>\n",
       "      <td>3433</td>\n",
       "      <td>24688</td>\n",
       "      <td>NaN</td>\n",
       "      <td>NaN</td>\n",
       "    </tr>\n",
       "    <tr>\n",
       "      <th>top</th>\n",
       "      <td>[99]</td>\n",
       "      <td>NaN</td>\n",
       "      <td>en</td>\n",
       "      <td>Eden</td>\n",
       "      <td>NaN</td>\n",
       "      <td>2010-01-01</td>\n",
       "      <td>Home</td>\n",
       "      <td>NaN</td>\n",
       "      <td>NaN</td>\n",
       "    </tr>\n",
       "    <tr>\n",
       "      <th>freq</th>\n",
       "      <td>3700</td>\n",
       "      <td>NaN</td>\n",
       "      <td>23291</td>\n",
       "      <td>7</td>\n",
       "      <td>NaN</td>\n",
       "      <td>269</td>\n",
       "      <td>7</td>\n",
       "      <td>NaN</td>\n",
       "      <td>NaN</td>\n",
       "    </tr>\n",
       "    <tr>\n",
       "      <th>mean</th>\n",
       "      <td>NaN</td>\n",
       "      <td>295050.153260</td>\n",
       "      <td>NaN</td>\n",
       "      <td>NaN</td>\n",
       "      <td>3.130912</td>\n",
       "      <td>NaN</td>\n",
       "      <td>NaN</td>\n",
       "      <td>5.991281</td>\n",
       "      <td>194.224837</td>\n",
       "    </tr>\n",
       "    <tr>\n",
       "      <th>std</th>\n",
       "      <td>NaN</td>\n",
       "      <td>153661.615648</td>\n",
       "      <td>NaN</td>\n",
       "      <td>NaN</td>\n",
       "      <td>4.355229</td>\n",
       "      <td>NaN</td>\n",
       "      <td>NaN</td>\n",
       "      <td>1.852946</td>\n",
       "      <td>960.961095</td>\n",
       "    </tr>\n",
       "    <tr>\n",
       "      <th>min</th>\n",
       "      <td>NaN</td>\n",
       "      <td>27.000000</td>\n",
       "      <td>NaN</td>\n",
       "      <td>NaN</td>\n",
       "      <td>0.600000</td>\n",
       "      <td>NaN</td>\n",
       "      <td>NaN</td>\n",
       "      <td>0.000000</td>\n",
       "      <td>1.000000</td>\n",
       "    </tr>\n",
       "    <tr>\n",
       "      <th>25%</th>\n",
       "      <td>NaN</td>\n",
       "      <td>157851.000000</td>\n",
       "      <td>NaN</td>\n",
       "      <td>NaN</td>\n",
       "      <td>0.600000</td>\n",
       "      <td>NaN</td>\n",
       "      <td>NaN</td>\n",
       "      <td>5.000000</td>\n",
       "      <td>2.000000</td>\n",
       "    </tr>\n",
       "    <tr>\n",
       "      <th>50%</th>\n",
       "      <td>NaN</td>\n",
       "      <td>309581.000000</td>\n",
       "      <td>NaN</td>\n",
       "      <td>NaN</td>\n",
       "      <td>1.374000</td>\n",
       "      <td>NaN</td>\n",
       "      <td>NaN</td>\n",
       "      <td>6.000000</td>\n",
       "      <td>5.000000</td>\n",
       "    </tr>\n",
       "    <tr>\n",
       "      <th>75%</th>\n",
       "      <td>NaN</td>\n",
       "      <td>419542.000000</td>\n",
       "      <td>NaN</td>\n",
       "      <td>NaN</td>\n",
       "      <td>3.694000</td>\n",
       "      <td>NaN</td>\n",
       "      <td>NaN</td>\n",
       "      <td>7.000000</td>\n",
       "      <td>28.000000</td>\n",
       "    </tr>\n",
       "    <tr>\n",
       "      <th>max</th>\n",
       "      <td>NaN</td>\n",
       "      <td>608444.000000</td>\n",
       "      <td>NaN</td>\n",
       "      <td>NaN</td>\n",
       "      <td>80.773000</td>\n",
       "      <td>NaN</td>\n",
       "      <td>NaN</td>\n",
       "      <td>10.000000</td>\n",
       "      <td>22186.000000</td>\n",
       "    </tr>\n",
       "  </tbody>\n",
       "</table>\n",
       "</div>"
      ],
      "text/plain": [
       "       genre_ids             id original_language original_title  \\\n",
       "count      26517   26517.000000             26517          26517   \n",
       "unique      2477            NaN                76          24835   \n",
       "top         [99]            NaN                en           Eden   \n",
       "freq        3700            NaN             23291              7   \n",
       "mean         NaN  295050.153260               NaN            NaN   \n",
       "std          NaN  153661.615648               NaN            NaN   \n",
       "min          NaN      27.000000               NaN            NaN   \n",
       "25%          NaN  157851.000000               NaN            NaN   \n",
       "50%          NaN  309581.000000               NaN            NaN   \n",
       "75%          NaN  419542.000000               NaN            NaN   \n",
       "max          NaN  608444.000000               NaN            NaN   \n",
       "\n",
       "          popularity release_date  title  vote_average    vote_count  \n",
       "count   26517.000000        26517  26517  26517.000000  26517.000000  \n",
       "unique           NaN         3433  24688           NaN           NaN  \n",
       "top              NaN   2010-01-01   Home           NaN           NaN  \n",
       "freq             NaN          269      7           NaN           NaN  \n",
       "mean        3.130912          NaN    NaN      5.991281    194.224837  \n",
       "std         4.355229          NaN    NaN      1.852946    960.961095  \n",
       "min         0.600000          NaN    NaN      0.000000      1.000000  \n",
       "25%         0.600000          NaN    NaN      5.000000      2.000000  \n",
       "50%         1.374000          NaN    NaN      6.000000      5.000000  \n",
       "75%         3.694000          NaN    NaN      7.000000     28.000000  \n",
       "max        80.773000          NaN    NaN     10.000000  22186.000000  "
      ]
     },
     "execution_count": 38,
     "metadata": {},
     "output_type": "execute_result"
    }
   ],
   "source": [
    "# Inspecting the columns\n",
    "tmdb.describe(include='all')"
   ]
  },
  {
   "cell_type": "code",
   "execution_count": 39,
   "metadata": {},
   "outputs": [
    {
     "data": {
      "text/plain": [
       "genre_ids            0\n",
       "id                   0\n",
       "original_language    0\n",
       "original_title       0\n",
       "popularity           0\n",
       "release_date         0\n",
       "title                0\n",
       "vote_average         0\n",
       "vote_count           0\n",
       "dtype: int64"
      ]
     },
     "execution_count": 39,
     "metadata": {},
     "output_type": "execute_result"
    }
   ],
   "source": [
    "tmdb.isna().sum()"
   ]
  },
  {
   "cell_type": "markdown",
   "metadata": {},
   "source": [
    "There are no missing values in this dataset we proceed to cleaning column names,dates, strings, and checking for outliers and dealing with them."
   ]
  },
  {
   "cell_type": "code",
   "execution_count": 40,
   "metadata": {},
   "outputs": [
    {
     "name": "stdout",
     "output_type": "stream",
     "text": [
      "Index(['genre_ids', 'tmdb_id', 'language', 'original_title', 'popularity',\n",
      "       'release_date', 'title', 'vote_average', 'vote_count'],\n",
      "      dtype='object')\n"
     ]
    }
   ],
   "source": [
    "# Rename only for clarity, retain all columns for now\n",
    "tmdb.rename(columns={\n",
    "    'id': 'tmdb_id',\n",
    "    'original_language': 'language',\n",
    "    'vote_average': 'vote_average',  \n",
    "    'vote_count': 'vote_count'       \n",
    "}, inplace=True)\n",
    "# Convert release_date to datetime\n",
    "tmdb['release_date'] = pd.to_datetime(tmdb['release_date'], errors='coerce')\n",
    "# Filter movies with very few votes\n",
    "tmdb = tmdb[tmdb['vote_count'] >= 10].reset_index(drop=True)\n",
    "# Clean string columns \n",
    "tmdb['title'] = tmdb['title'].str.strip().str.replace('\\n', ' ', regex=False).str.replace('\\r', '', regex=False)\n",
    "tmdb['original_title'] = tmdb['original_title'].str.strip().str.replace('\\n', ' ', regex=False).str.replace('\\r', '', regex=False)\n",
    "tmdb['language'] = tmdb['language'].str.strip().str.lower()\n",
    "# Final retained columns\n",
    "print(tmdb.columns)\n",
    "\n"
   ]
  },
  {
   "cell_type": "code",
   "execution_count": 41,
   "metadata": {},
   "outputs": [
    {
     "data": {
      "image/png": "[encoded data removed]",
      "text/plain": [
       "<Figure size 432x288 with 1 Axes>"
      ]
     },
     "metadata": {
      "needs_background": "light"
     },
     "output_type": "display_data"
    },
    {
     "data": {
      "image/png": "[encoded data removed]",
      "text/plain": [
       "<Figure size 432x288 with 1 Axes>"
      ]
     },
     "metadata": {
      "needs_background": "light"
     },
     "output_type": "display_data"
    },
    {
     "data": {
      "image/png": "[encoded data removed]",
      "text/plain": [
       "<Figure size 432x288 with 1 Axes>"
      ]
     },
     "metadata": {
      "needs_background": "light"
     },
     "output_type": "display_data"
    }
   ],
   "source": [
    "# Checking for outliers \n",
    "numeric_cols = ['vote_count', 'vote_average', 'popularity']\n",
    "\n",
    "for col in numeric_cols:\n",
    "    plt.figure(figsize=(6, 4))\n",
    "    tmdb.boxplot(column=col)\n",
    "    plt.title(f'Boxplot of {col}')\n",
    "    plt.grid(axis='y')\n",
    "    plt.show()\n"
   ]
  },
  {
   "cell_type": "markdown",
   "metadata": {},
   "source": [
    "Boxplot 1 - `vote_count`\n",
    "This distribution is heavily right-skewed, indicating most movies have very few votes while a small number receive extremely high vote counts \n",
    "\n",
    "Boxplot 2 `vote_average`\n",
    "This distribution is roughly symmetrical, showing that most movies cluster around a central rating value, typically between 6 and 8.\n",
    "\n",
    "Boxplot 3 `popularity`\n",
    "Like vote_count, this distribution is highly right-skewed, suggesting a few movies dominate in popularity while the majority have low scores.\n",
    "\n",
    "#### Decision - `Retainig outliers`\n",
    "Outliers in vote_count and popularity are intentionally retained because they represent blockbuster or highly successful films that are central to our business goals. Removing them would eliminate critical insights into what drives high audience engagement and returns ie. the very patterns we aim to uncover."
   ]
  },
  {
   "cell_type": "markdown",
   "metadata": {},
   "source": [
    "#### Visualization in `tmdb`"
   ]
  },
  {
   "cell_type": "code",
   "execution_count": 42,
   "metadata": {},
   "outputs": [
    {
     "data": {
      "image/png": "[encoded data removed]",
      "text/plain": [
       "<Figure size 576x360 with 1 Axes>"
      ]
     },
     "metadata": {
      "needs_background": "light"
     },
     "output_type": "display_data"
    }
   ],
   "source": [
    "# Movie ratings \n",
    "plt.figure(figsize=(8, 5))\n",
    "sns.histplot(tmdb['vote_average'], bins=20, kde=True)\n",
    "plt.title('Distribution of Movie Ratings')\n",
    "plt.xlabel('Vote Average')\n",
    "plt.ylabel('Count')\n",
    "plt.grid(True)\n",
    "plt.show()"
   ]
  },
  {
   "cell_type": "code",
   "execution_count": 43,
   "metadata": {},
   "outputs": [
    {
     "data": {
      "image/png": "[encoded data removed]",
      "text/plain": [
       "<Figure size 576x360 with 1 Axes>"
      ]
     },
     "metadata": {
      "needs_background": "light"
     },
     "output_type": "display_data"
    }
   ],
   "source": [
    "# Popularity vs. Count\n",
    "plt.figure(figsize=(8, 5))\n",
    "sns.scatterplot(data=tmdb, x='vote_count', y='popularity', alpha=0.6)\n",
    "plt.title('Popularity vs. Vote Count')\n",
    "plt.xlabel('Vote Count')\n",
    "plt.ylabel('Popularity')\n",
    "plt.grid(True)\n",
    "plt.show()\n"
   ]
  },
  {
   "cell_type": "code",
   "execution_count": 44,
   "metadata": {},
   "outputs": [
    {
     "data": {
      "image/png": "[encoded data removed]",
      "text/plain": [
       "<Figure size 720x432 with 1 Axes>"
      ]
     },
     "metadata": {
      "needs_background": "light"
     },
     "output_type": "display_data"
    }
   ],
   "source": [
    "# Top ten popular movies \n",
    "top_popular = tmdb.nlargest(10, 'popularity')\n",
    "plt.figure(figsize=(10, 6))\n",
    "plt.barh(top_popular['title'], top_popular['popularity'])\n",
    "plt.title('Top 10 Most Popular Movies')\n",
    "plt.xlabel('Popularity')\n",
    "plt.gca().invert_yaxis()\n",
    "plt.show()\n"
   ]
  },
  {
   "cell_type": "code",
   "execution_count": 45,
   "metadata": {},
   "outputs": [],
   "source": [
    "genre_map = {\n",
    "    28: 'Action', 12: 'Adventure', 16: 'Animation', 35: 'Comedy', 80: 'Crime',\n",
    "    99: 'Documentary', 18: 'Drama', 10751: 'Family', 14: 'Fantasy', 36: 'History',\n",
    "    27: 'Horror', 10402: 'Music', 9648: 'Mystery', 10749: 'Romance', 878: 'Science Fiction',\n",
    "    10770: 'TV Movie', 53: 'Thriller', 10752: 'War', 37: 'Western'\n",
    "}\n",
    "\n",
    "import ast\n",
    "\n",
    "# Convert genre_ids string to list (if needed)\n",
    "tmdb['genre_ids'] = tmdb['genre_ids'].apply(lambda x: ast.literal_eval(x) if isinstance(x, str) else x)\n",
    "\n",
    "# Explode genre_ids to get one genre per row\n",
    "tmdb_exploded = tmdb.explode('genre_ids')\n",
    "tmdb_exploded['genre_name'] = tmdb_exploded['genre_ids'].map(genre_map)\n"
   ]
  },
  {
   "cell_type": "code",
   "execution_count": 46,
   "metadata": {},
   "outputs": [
    {
     "data": {
      "image/png": "[encoded data removed]",
      "text/plain": [
       "<Figure size 720x576 with 1 Axes>"
      ]
     },
     "metadata": {
      "needs_background": "light"
     },
     "output_type": "display_data"
    }
   ],
   "source": [
    "# Top genres by average ratings \n",
    "plt.figure(figsize=(10, 8))\n",
    "genre_rating = tmdb_exploded.groupby('genre_name')['vote_average'].mean().sort_values(ascending=False)\n",
    "\n",
    "sns.barplot(x=genre_rating.values, y=genre_rating.index)\n",
    "plt.title('Average Rating by Genre')\n",
    "plt.xlabel('Average Rating')\n",
    "plt.ylabel('Genre')\n",
    "plt.grid(True)\n",
    "plt.show()\n"
   ]
  },
  {
   "cell_type": "code",
   "execution_count": 47,
   "metadata": {},
   "outputs": [
    {
     "data": {
      "image/png": "[encoded data removed]",
      "text/plain": [
       "<Figure size 1008x432 with 1 Axes>"
      ]
     },
     "metadata": {
      "needs_background": "light"
     },
     "output_type": "display_data"
    }
   ],
   "source": [
    "# movie count by release year \n",
    "year_counts = tmdb['release_date'].value_counts().sort_index()\n",
    "\n",
    "plt.figure(figsize=(14, 6))\n",
    "sns.lineplot(x=year_counts.index, y=year_counts.values)\n",
    "plt.title('Number of Movies Released per Year')\n",
    "plt.xlabel('Year')\n",
    "plt.ylabel('Movie Count')\n",
    "plt.grid(True)\n",
    "plt.show()"
   ]
  },
  {
   "cell_type": "code",
   "execution_count": 48,
   "metadata": {},
   "outputs": [
    {
     "data": {
      "image/png": "[encoded data removed]",
      "text/plain": [
       "<Figure size 1008x432 with 1 Axes>"
      ]
     },
     "metadata": {
      "needs_background": "light"
     },
     "output_type": "display_data"
    }
   ],
   "source": [
    "# Rating disstribution by language \n",
    "# Filtering for languages with enough data\n",
    "top_langs = tmdb['language'].value_counts().loc[lambda x: x > 50].index\n",
    "subset = tmdb[tmdb['language'].isin(top_langs)]\n",
    "\n",
    "plt.figure(figsize=(14, 6))\n",
    "sns.boxplot(data=subset, x='language', y='vote_average')\n",
    "plt.title('Distribution of Ratings by Original Language')\n",
    "plt.xlabel('Language')\n",
    "plt.ylabel('Vote Average')\n",
    "plt.grid(True)\n",
    "plt.show()\n"
   ]
  },
  {
   "cell_type": "markdown",
   "metadata": {},
   "source": [
    "### 4. `tn` EDA and Cleaning\n"
   ]
  },
  {
   "cell_type": "code",
   "execution_count": 49,
   "metadata": {},
   "outputs": [
    {
     "name": "stdout",
     "output_type": "stream",
     "text": [
      "(5782, 6)\n",
      "<class 'pandas.core.frame.DataFrame'>\n",
      "RangeIndex: 5782 entries, 0 to 5781\n",
      "Data columns (total 6 columns):\n",
      " #   Column             Non-Null Count  Dtype \n",
      "---  ------             --------------  ----- \n",
      " 0   id                 5782 non-null   int64 \n",
      " 1   release_date       5782 non-null   object\n",
      " 2   movie              5782 non-null   object\n",
      " 3   production_budget  5782 non-null   object\n",
      " 4   domestic_gross     5782 non-null   object\n",
      " 5   worldwide_gross    5782 non-null   object\n",
      "dtypes: int64(1), object(5)\n",
      "memory usage: 271.2+ KB\n",
      "None\n"
     ]
    },
    {
     "data": {
      "text/plain": [
       "Index(['id', 'release_date', 'movie', 'production_budget', 'domestic_gross',\n",
       "       'worldwide_gross'],\n",
       "      dtype='object')"
      ]
     },
     "execution_count": 49,
     "metadata": {},
     "output_type": "execute_result"
    }
   ],
   "source": [
    "# Exploring data\n",
    "print(tn.shape)\n",
    "print(tn.info())\n",
    "tn.columns"
   ]
  },
  {
   "cell_type": "code",
   "execution_count": 50,
   "metadata": {},
   "outputs": [
    {
     "data": {
      "text/html": [
       "<div>\n",
       "<style scoped>\n",
       "    .dataframe tbody tr th:only-of-type {\n",
       "        vertical-align: middle;\n",
       "    }\n",
       "\n",
       "    .dataframe tbody tr th {\n",
       "        vertical-align: top;\n",
       "    }\n",
       "\n",
       "    .dataframe thead th {\n",
       "        text-align: right;\n",
       "    }\n",
       "</style>\n",
       "<table border=\"1\" class=\"dataframe\">\n",
       "  <thead>\n",
       "    <tr style=\"text-align: right;\">\n",
       "      <th></th>\n",
       "      <th>id</th>\n",
       "      <th>release_date</th>\n",
       "      <th>movie</th>\n",
       "      <th>production_budget</th>\n",
       "      <th>domestic_gross</th>\n",
       "      <th>worldwide_gross</th>\n",
       "    </tr>\n",
       "  </thead>\n",
       "  <tbody>\n",
       "    <tr>\n",
       "      <th>count</th>\n",
       "      <td>5782.000000</td>\n",
       "      <td>5782</td>\n",
       "      <td>5782</td>\n",
       "      <td>5782</td>\n",
       "      <td>5782</td>\n",
       "      <td>5782</td>\n",
       "    </tr>\n",
       "    <tr>\n",
       "      <th>unique</th>\n",
       "      <td>NaN</td>\n",
       "      <td>2418</td>\n",
       "      <td>5698</td>\n",
       "      <td>509</td>\n",
       "      <td>5164</td>\n",
       "      <td>5356</td>\n",
       "    </tr>\n",
       "    <tr>\n",
       "      <th>top</th>\n",
       "      <td>NaN</td>\n",
       "      <td>Dec 31, 2014</td>\n",
       "      <td>Home</td>\n",
       "      <td>$20,000,000</td>\n",
       "      <td>$0</td>\n",
       "      <td>$0</td>\n",
       "    </tr>\n",
       "    <tr>\n",
       "      <th>freq</th>\n",
       "      <td>NaN</td>\n",
       "      <td>24</td>\n",
       "      <td>3</td>\n",
       "      <td>231</td>\n",
       "      <td>548</td>\n",
       "      <td>367</td>\n",
       "    </tr>\n",
       "    <tr>\n",
       "      <th>mean</th>\n",
       "      <td>50.372363</td>\n",
       "      <td>NaN</td>\n",
       "      <td>NaN</td>\n",
       "      <td>NaN</td>\n",
       "      <td>NaN</td>\n",
       "      <td>NaN</td>\n",
       "    </tr>\n",
       "    <tr>\n",
       "      <th>std</th>\n",
       "      <td>28.821076</td>\n",
       "      <td>NaN</td>\n",
       "      <td>NaN</td>\n",
       "      <td>NaN</td>\n",
       "      <td>NaN</td>\n",
       "      <td>NaN</td>\n",
       "    </tr>\n",
       "    <tr>\n",
       "      <th>min</th>\n",
       "      <td>1.000000</td>\n",
       "      <td>NaN</td>\n",
       "      <td>NaN</td>\n",
       "      <td>NaN</td>\n",
       "      <td>NaN</td>\n",
       "      <td>NaN</td>\n",
       "    </tr>\n",
       "    <tr>\n",
       "      <th>25%</th>\n",
       "      <td>25.000000</td>\n",
       "      <td>NaN</td>\n",
       "      <td>NaN</td>\n",
       "      <td>NaN</td>\n",
       "      <td>NaN</td>\n",
       "      <td>NaN</td>\n",
       "    </tr>\n",
       "    <tr>\n",
       "      <th>50%</th>\n",
       "      <td>50.000000</td>\n",
       "      <td>NaN</td>\n",
       "      <td>NaN</td>\n",
       "      <td>NaN</td>\n",
       "      <td>NaN</td>\n",
       "      <td>NaN</td>\n",
       "    </tr>\n",
       "    <tr>\n",
       "      <th>75%</th>\n",
       "      <td>75.000000</td>\n",
       "      <td>NaN</td>\n",
       "      <td>NaN</td>\n",
       "      <td>NaN</td>\n",
       "      <td>NaN</td>\n",
       "      <td>NaN</td>\n",
       "    </tr>\n",
       "    <tr>\n",
       "      <th>max</th>\n",
       "      <td>100.000000</td>\n",
       "      <td>NaN</td>\n",
       "      <td>NaN</td>\n",
       "      <td>NaN</td>\n",
       "      <td>NaN</td>\n",
       "      <td>NaN</td>\n",
       "    </tr>\n",
       "  </tbody>\n",
       "</table>\n",
       "</div>"
      ],
      "text/plain": [
       "                 id  release_date movie production_budget domestic_gross  \\\n",
       "count   5782.000000          5782  5782              5782           5782   \n",
       "unique          NaN          2418  5698               509           5164   \n",
       "top             NaN  Dec 31, 2014  Home       $20,000,000             $0   \n",
       "freq            NaN            24     3               231            548   \n",
       "mean      50.372363           NaN   NaN               NaN            NaN   \n",
       "std       28.821076           NaN   NaN               NaN            NaN   \n",
       "min        1.000000           NaN   NaN               NaN            NaN   \n",
       "25%       25.000000           NaN   NaN               NaN            NaN   \n",
       "50%       50.000000           NaN   NaN               NaN            NaN   \n",
       "75%       75.000000           NaN   NaN               NaN            NaN   \n",
       "max      100.000000           NaN   NaN               NaN            NaN   \n",
       "\n",
       "       worldwide_gross  \n",
       "count             5782  \n",
       "unique            5356  \n",
       "top                 $0  \n",
       "freq               367  \n",
       "mean               NaN  \n",
       "std                NaN  \n",
       "min                NaN  \n",
       "25%                NaN  \n",
       "50%                NaN  \n",
       "75%                NaN  \n",
       "max                NaN  "
      ]
     },
     "execution_count": 50,
     "metadata": {},
     "output_type": "execute_result"
    }
   ],
   "source": [
    "# inspecting columns\n",
    "tn.describe(include='all')"
   ]
  },
  {
   "cell_type": "code",
   "execution_count": 51,
   "metadata": {},
   "outputs": [
    {
     "data": {
      "text/plain": [
       "id                   0\n",
       "release_date         0\n",
       "movie                0\n",
       "production_budget    0\n",
       "domestic_gross       0\n",
       "worldwide_gross      0\n",
       "dtype: int64"
      ]
     },
     "execution_count": 51,
     "metadata": {},
     "output_type": "execute_result"
    }
   ],
   "source": [
    "tn.isna().sum()"
   ]
  },
  {
   "cell_type": "markdown",
   "metadata": {},
   "source": [
    "###### There are no missing values from the above \n",
    "We proceed with our cleaning for column names, strings, dates ,datatypes, duplicates and checking for outliers"
   ]
  },
  {
   "cell_type": "code",
   "execution_count": 52,
   "metadata": {},
   "outputs": [
    {
     "name": "stdout",
     "output_type": "stream",
     "text": [
      "<class 'pandas.core.frame.DataFrame'>\n",
      "Int64Index: 5782 entries, 0 to 5781\n",
      "Data columns (total 6 columns):\n",
      " #   Column             Non-Null Count  Dtype         \n",
      "---  ------             --------------  -----         \n",
      " 0   id                 5782 non-null   int64         \n",
      " 1   release_date       5782 non-null   datetime64[ns]\n",
      " 2   title              5782 non-null   object        \n",
      " 3   production_budget  5782 non-null   float64       \n",
      " 4   domestic_gross     5782 non-null   float64       \n",
      " 5   worldwide_gross    5782 non-null   float64       \n",
      "dtypes: datetime64[ns](1), float64(3), int64(1), object(1)\n",
      "memory usage: 316.2+ KB\n",
      "None\n"
     ]
    }
   ],
   "source": [
    "# 1. Convert release_date to datetime\n",
    "tn['release_date'] = pd.to_datetime(tn['release_date'], errors='coerce')\n",
    "# 2. Clean movie title strings\n",
    "tn['movie'] = tn['movie'].str.strip().str.replace('\\n', ' ', regex=False).str.replace('\\r', '', regex=False)\n",
    "# 3. Rename movie to title for consistency across datasets\n",
    "tn.rename(columns={'movie': 'title'}, inplace=True)\n",
    "# 4. Convert monetary columns to numeric (remove $ and commas if present)\n",
    "money_cols = ['production_budget', 'domestic_gross', 'worldwide_gross']\n",
    "for col in money_cols:\n",
    "    tn[col] = tn[col].replace('[\\$,]', '', regex=True).astype(float)\n",
    "# 5. Drop duplicates\n",
    "tn.drop_duplicates(inplace=True)\n",
    "# Final check\n",
    "print(tn.info())\n"
   ]
  },
  {
   "cell_type": "code",
   "execution_count": 53,
   "metadata": {},
   "outputs": [
    {
     "data": {
      "image/png": "[encoded data removed]",
      "text/plain": [
       "<Figure size 432x288 with 1 Axes>"
      ]
     },
     "metadata": {
      "needs_background": "light"
     },
     "output_type": "display_data"
    },
    {
     "data": {
      "image/png": "[encoded data removed]",
      "text/plain": [
       "<Figure size 432x288 with 1 Axes>"
      ]
     },
     "metadata": {
      "needs_background": "light"
     },
     "output_type": "display_data"
    },
    {
     "data": {
      "image/png": "[encoded data removed]",
      "text/plain": [
       "<Figure size 432x288 with 1 Axes>"
      ]
     },
     "metadata": {
      "needs_background": "light"
     },
     "output_type": "display_data"
    }
   ],
   "source": [
    "# Checking for duplicates\n",
    "# Define numeric financial columns\n",
    "numeric_cols = ['production_budget', 'domestic_gross', 'worldwide_gross']\n",
    "\n",
    "# Plot each in a separate boxplot\n",
    "for col in numeric_cols:\n",
    "    plt.figure(figsize=(6, 4))\n",
    "    tn.boxplot(column=col)\n",
    "    plt.title(f'Boxplot of {col.replace(\"_\", \" \").title()}')\n",
    "    plt.ylabel('USD')\n",
    "    plt.grid(axis='y')\n",
    "    plt.show()"
   ]
  },
  {
   "cell_type": "markdown",
   "metadata": {},
   "source": [
    "## Merging all the datasets for final analysis\n",
    "### Displaying columns for all datasets"
   ]
  },
  {
   "cell_type": "code",
   "execution_count": 54,
   "metadata": {},
   "outputs": [
    {
     "name": "stdout",
     "output_type": "stream",
     "text": [
      "movie basics:  Index(['movie_id', 'title', 'original_title', 'release_year', 'genres'], dtype='object')\n",
      "movie ratings:  Index(['movie_id', 'vote_average', 'vote_count', 'log_vote_count'], dtype='object')\n",
      "tmdb:  Index(['genre_ids', 'tmdb_id', 'language', 'original_title', 'popularity',\n",
      "       'release_date', 'title', 'vote_average', 'vote_count'],\n",
      "      dtype='object')\n",
      "tn:  Index(['id', 'release_date', 'title', 'production_budget', 'domestic_gross',\n",
      "       'worldwide_gross'],\n",
      "      dtype='object')\n"
     ]
    }
   ],
   "source": [
    "print('movie basics: ',movie_basics.columns)\n",
    "print('movie ratings: ', movie_ratings.columns)\n",
    "print('tmdb: ',tmdb.columns)\n",
    "print('tn: ',tn.columns)"
   ]
  },
  {
   "cell_type": "markdown",
   "metadata": {},
   "source": [
    "### Merged Dataset For Unified Analysis\n",
    "\n",
    "To support our business recommendations, we integrate complementary datasets\n",
    "\n",
    "1. `movie_basics`: Contains titles, release years, and genres.\n",
    "2. `movie_ratings`: Contains average ratings and vote counts from IMDB.\n",
    "3. `tmdb`: Provides additional metadata including language, popularity, and release dates.\n",
    "4. `tn`: Offers financial data such as production budgets and worldwide revenue.\n",
    "\n",
    "Merging these datasets ensures we have a unified dataset with both qualitative (genre, language, popularity) and quantitative (ratings, budget, revenue) variables. This enables holistic analysis of movie performance from both creative and financial perspectives.\n",
    "\n",
    "**Merge Strategy Summary**\n",
    "\n",
    "| Step | Action                                | Join Key    | Purpose                               |\n",
    "|------|---------------------------------------|-------------|---------------------------------------|\n",
    "| 1    | Join `movie_basics` with `movie_ratings` | `movie_id`| Combine genre and rating information|\n",
    "| 2    | Join result with `tmdb`               | `title`     | Add popularity and language metadata  |\n",
    "| 3    | Join result with `tn`                 | `title`     | Add budget and gross for ROI analysis |\n",
    "| 4    | "
   ]
  },
  {
   "cell_type": "markdown",
   "metadata": {},
   "source": [
    "### First Merge   `movie_basics` with `movie_ratings`\n",
    "This will help to get genres, title, release_year + vote_average and, vote_count        \n",
    "Key (`movie_id`)"
   ]
  },
  {
   "cell_type": "code",
   "execution_count": 55,
   "metadata": {},
   "outputs": [
    {
     "name": "stdout",
     "output_type": "stream",
     "text": [
      "(35301, 8)\n"
     ]
    }
   ],
   "source": [
    "# Step 1: Merge movie_basics with movie_ratings on movie_id\n",
    "basic_ratings = pd.merge(movie_basics, movie_ratings, on='movie_id', how='inner')\n",
    "print(basic_ratings.shape)\n"
   ]
  },
  {
   "cell_type": "markdown",
   "metadata": {},
   "source": [
    "### Second merge\n",
    "This helps us get popularity, language,release_date and genre_ids         \n",
    "Key(`title`)"
   ]
  },
  {
   "cell_type": "code",
   "execution_count": 56,
   "metadata": {},
   "outputs": [
    {
     "name": "stdout",
     "output_type": "stream",
     "text": [
      "(42436, 16)\n"
     ]
    }
   ],
   "source": [
    "# Step 2: Merge with tmdb using title\n",
    "basic_ratings_tmdb = pd.merge(basic_ratings, tmdb, on='title', how='outer')\n",
    "print(basic_ratings_tmdb.shape)\n"
   ]
  },
  {
   "cell_type": "markdown",
   "metadata": {},
   "source": [
    "### Third Merge\n",
    "This helps to get production_budget, worldwide_gross, and release_date  \n",
    "Key(`title`)"
   ]
  },
  {
   "cell_type": "code",
   "execution_count": 57,
   "metadata": {},
   "outputs": [
    {
     "name": "stdout",
     "output_type": "stream",
     "text": [
      "(46287, 21)\n"
     ]
    }
   ],
   "source": [
    "# Step 3: Final merge with TN using title\n",
    "movies_metadata = pd.merge(basic_ratings_tmdb, tn, on='title', how='outer')\n",
    "print(movies_metadata.shape)\n"
   ]
  },
  {
   "cell_type": "code",
   "execution_count": 58,
   "metadata": {},
   "outputs": [
    {
     "name": "stdout",
     "output_type": "stream",
     "text": [
      "Rows after movie_basics + movie_ratings: 35301\n",
      "Rows after adding tmdb: 42436\n",
      "Final merged rows: 46287\n"
     ]
    }
   ],
   "source": [
    "print(f\"Rows after movie_basics + movie_ratings: {basic_ratings.shape[0]}\")\n",
    "print(f\"Rows after adding tmdb: {basic_ratings_tmdb.shape[0]}\")\n",
    "print(f\"Final merged rows: {movies_metadata.shape[0]}\")\n"
   ]
  },
  {
   "cell_type": "markdown",
   "metadata": {},
   "source": [
    "### Final Dataset Shape `(46287, 21)`\n",
    "#### At the end of the merging process, we obtained a consolidated dataset ready for exploratory analysis and business recommendations.\n"
   ]
  },
  {
   "cell_type": "markdown",
   "metadata": {},
   "source": [
    "## Merged Dataset Overview\n",
    "\n",
    "Our final merged dataset `movies_metadata` contains **46,287 records** and **21 columns**, resulting from joining ,\n",
    "- im.db (`movie basics` and `ratings`)\n",
    "- tmdb \n",
    "- The tn movie budgets\n",
    "\n",
    "### Observations from `movies_metadata.info()`\n",
    "\n",
    "- Core variables (e.g. `title`, `genres`, `vote_average_x`) are available for ~36K movies\n",
    "- tmdb features (e.g. `popularity`, `language`) are present for ~11K movies\n",
    "- Financial data (e.g. `production_budget`, `worldwide_gross`) exists for ~6K movies\n",
    "- Several columns are duplicated or suffixed (e.g. `_x`, `_y`) due to merges\n",
    "\n",
    "### Cleaning Plan\n",
    "\n",
    "To prepare for EDA, we will(steps)\n",
    "1. Select and standardize key variables to support our business objectives\n",
    "2. Drop or rename duplicate-suffixed columns (`vote_average_x`, `vote_average_y`, etc.)\n",
    "3. Handle missing data strategically:\n",
    "   - Keep rows that guide our goal if present\n",
    "   - Retain partial rows for broader insights (e.g. genre + rating even if no budget info)\n",
    "4. Convert datatypes if needed (`release_date` as datetime)\n",
    "5. Create derived fields\n",
    "   - `ROI`- `(worldwide_gross - production_budget) / production_budget`\n",
    "   - `release_month`- from `release_date_y` (for seasonal trend analysis)\n",
    "\n",
    "This cleaning is applied in context during univariate and bivariate analysis, depending on which variables are involved.\n",
    "\n",
    "\n"
   ]
  },
  {
   "cell_type": "markdown",
   "metadata": {},
   "source": [
    "### Target Variables for Analysis\n",
    "\n",
    "Based on our business objectives, the following columns are central to our analysis:\n",
    "\n",
    "- `production_budget`\n",
    "- `domestic_gross`, `worldwide_gross`\n",
    "- `distributor`\n",
    "- `vote_average`, `vote_count`\n",
    "- `genres`\n",
    "- `release_date` (will be used to extract `release_month`)\n",
    "- `popularity`\n"
   ]
  },
  {
   "cell_type": "code",
   "execution_count": 59,
   "metadata": {},
   "outputs": [
    {
     "data": {
      "text/plain": [
       "Index(['movie_id', 'title', 'original_title_x', 'release_year', 'genres',\n",
       "       'vote_average_x', 'vote_count_x', 'log_vote_count', 'genre_ids',\n",
       "       'tmdb_id', 'language', 'original_title_y', 'popularity',\n",
       "       'release_date_x', 'vote_average_y', 'vote_count_y', 'id',\n",
       "       'release_date_y', 'production_budget', 'domestic_gross',\n",
       "       'worldwide_gross'],\n",
       "      dtype='object')"
      ]
     },
     "execution_count": 59,
     "metadata": {},
     "output_type": "execute_result"
    }
   ],
   "source": [
    "movies_metadata.columns"
   ]
  },
  {
   "cell_type": "code",
   "execution_count": 60,
   "metadata": {},
   "outputs": [
    {
     "data": {
      "text/html": [
       "<div>\n",
       "<style scoped>\n",
       "    .dataframe tbody tr th:only-of-type {\n",
       "        vertical-align: middle;\n",
       "    }\n",
       "\n",
       "    .dataframe tbody tr th {\n",
       "        vertical-align: top;\n",
       "    }\n",
       "\n",
       "    .dataframe thead th {\n",
       "        text-align: right;\n",
       "    }\n",
       "</style>\n",
       "<table border=\"1\" class=\"dataframe\">\n",
       "  <thead>\n",
       "    <tr style=\"text-align: right;\">\n",
       "      <th></th>\n",
       "      <th>movie_id</th>\n",
       "      <th>title</th>\n",
       "      <th>original_title_x</th>\n",
       "      <th>release_year</th>\n",
       "      <th>genres</th>\n",
       "      <th>vote_average_x</th>\n",
       "      <th>vote_count_x</th>\n",
       "      <th>log_vote_count</th>\n",
       "      <th>genre_ids</th>\n",
       "      <th>tmdb_id</th>\n",
       "      <th>...</th>\n",
       "      <th>original_title_y</th>\n",
       "      <th>popularity</th>\n",
       "      <th>release_date_x</th>\n",
       "      <th>vote_average_y</th>\n",
       "      <th>vote_count_y</th>\n",
       "      <th>id</th>\n",
       "      <th>release_date_y</th>\n",
       "      <th>production_budget</th>\n",
       "      <th>domestic_gross</th>\n",
       "      <th>worldwide_gross</th>\n",
       "    </tr>\n",
       "  </thead>\n",
       "  <tbody>\n",
       "    <tr>\n",
       "      <th>0</th>\n",
       "      <td>tt0066787</td>\n",
       "      <td>One Day Before the Rainy Season</td>\n",
       "      <td>Ashad Ka Ek Din</td>\n",
       "      <td>2019.0</td>\n",
       "      <td>biography,drama</td>\n",
       "      <td>7.2</td>\n",
       "      <td>43.0</td>\n",
       "      <td>3.784190</td>\n",
       "      <td>NaN</td>\n",
       "      <td>NaN</td>\n",
       "      <td>...</td>\n",
       "      <td>NaN</td>\n",
       "      <td>NaN</td>\n",
       "      <td>NaT</td>\n",
       "      <td>NaN</td>\n",
       "      <td>NaN</td>\n",
       "      <td>NaN</td>\n",
       "      <td>NaT</td>\n",
       "      <td>NaN</td>\n",
       "      <td>NaN</td>\n",
       "      <td>NaN</td>\n",
       "    </tr>\n",
       "    <tr>\n",
       "      <th>1</th>\n",
       "      <td>tt0069049</td>\n",
       "      <td>The Other Side of the Wind</td>\n",
       "      <td>The Other Side of the Wind</td>\n",
       "      <td>2018.0</td>\n",
       "      <td>drama</td>\n",
       "      <td>6.9</td>\n",
       "      <td>4517.0</td>\n",
       "      <td>8.415825</td>\n",
       "      <td>[35, 18]</td>\n",
       "      <td>299782.0</td>\n",
       "      <td>...</td>\n",
       "      <td>The Other Side of the Wind</td>\n",
       "      <td>9.800</td>\n",
       "      <td>2018-11-02</td>\n",
       "      <td>7.0</td>\n",
       "      <td>64.0</td>\n",
       "      <td>NaN</td>\n",
       "      <td>NaT</td>\n",
       "      <td>NaN</td>\n",
       "      <td>NaN</td>\n",
       "      <td>NaN</td>\n",
       "    </tr>\n",
       "    <tr>\n",
       "      <th>2</th>\n",
       "      <td>tt0069204</td>\n",
       "      <td>Sabse Bada Sukh</td>\n",
       "      <td>Sabse Bada Sukh</td>\n",
       "      <td>2018.0</td>\n",
       "      <td>comedy,drama</td>\n",
       "      <td>6.1</td>\n",
       "      <td>13.0</td>\n",
       "      <td>2.639057</td>\n",
       "      <td>NaN</td>\n",
       "      <td>NaN</td>\n",
       "      <td>...</td>\n",
       "      <td>NaN</td>\n",
       "      <td>NaN</td>\n",
       "      <td>NaT</td>\n",
       "      <td>NaN</td>\n",
       "      <td>NaN</td>\n",
       "      <td>NaN</td>\n",
       "      <td>NaT</td>\n",
       "      <td>NaN</td>\n",
       "      <td>NaN</td>\n",
       "      <td>NaN</td>\n",
       "    </tr>\n",
       "    <tr>\n",
       "      <th>3</th>\n",
       "      <td>tt0100275</td>\n",
       "      <td>The Wandering Soap Opera</td>\n",
       "      <td>La Telenovela Errante</td>\n",
       "      <td>2017.0</td>\n",
       "      <td>comedy,drama,fantasy</td>\n",
       "      <td>6.5</td>\n",
       "      <td>119.0</td>\n",
       "      <td>4.787492</td>\n",
       "      <td>NaN</td>\n",
       "      <td>NaN</td>\n",
       "      <td>...</td>\n",
       "      <td>NaN</td>\n",
       "      <td>NaN</td>\n",
       "      <td>NaT</td>\n",
       "      <td>NaN</td>\n",
       "      <td>NaN</td>\n",
       "      <td>NaN</td>\n",
       "      <td>NaT</td>\n",
       "      <td>NaN</td>\n",
       "      <td>NaN</td>\n",
       "      <td>NaN</td>\n",
       "    </tr>\n",
       "    <tr>\n",
       "      <th>4</th>\n",
       "      <td>tt0112502</td>\n",
       "      <td>Bigfoot</td>\n",
       "      <td>Bigfoot</td>\n",
       "      <td>2017.0</td>\n",
       "      <td>horror,thriller</td>\n",
       "      <td>4.1</td>\n",
       "      <td>32.0</td>\n",
       "      <td>3.496508</td>\n",
       "      <td>[27, 878, 12]</td>\n",
       "      <td>117856.0</td>\n",
       "      <td>...</td>\n",
       "      <td>Bigfoot</td>\n",
       "      <td>2.813</td>\n",
       "      <td>2012-06-30</td>\n",
       "      <td>2.9</td>\n",
       "      <td>26.0</td>\n",
       "      <td>NaN</td>\n",
       "      <td>NaT</td>\n",
       "      <td>NaN</td>\n",
       "      <td>NaN</td>\n",
       "      <td>NaN</td>\n",
       "    </tr>\n",
       "  </tbody>\n",
       "</table>\n",
       "<p>5 rows × 21 columns</p>\n",
       "</div>"
      ],
      "text/plain": [
       "    movie_id                            title            original_title_x  \\\n",
       "0  tt0066787  One Day Before the Rainy Season             Ashad Ka Ek Din   \n",
       "1  tt0069049       The Other Side of the Wind  The Other Side of the Wind   \n",
       "2  tt0069204                  Sabse Bada Sukh             Sabse Bada Sukh   \n",
       "3  tt0100275         The Wandering Soap Opera       La Telenovela Errante   \n",
       "4  tt0112502                          Bigfoot                     Bigfoot   \n",
       "\n",
       "   release_year                genres  vote_average_x  vote_count_x  \\\n",
       "0        2019.0       biography,drama             7.2          43.0   \n",
       "1        2018.0                 drama             6.9        4517.0   \n",
       "2        2018.0          comedy,drama             6.1          13.0   \n",
       "3        2017.0  comedy,drama,fantasy             6.5         119.0   \n",
       "4        2017.0       horror,thriller             4.1          32.0   \n",
       "\n",
       "   log_vote_count      genre_ids   tmdb_id  ...            original_title_y  \\\n",
       "0        3.784190            NaN       NaN  ...                         NaN   \n",
       "1        8.415825       [35, 18]  299782.0  ...  The Other Side of the Wind   \n",
       "2        2.639057            NaN       NaN  ...                         NaN   \n",
       "3        4.787492            NaN       NaN  ...                         NaN   \n",
       "4        3.496508  [27, 878, 12]  117856.0  ...                     Bigfoot   \n",
       "\n",
       "  popularity  release_date_x vote_average_y  vote_count_y  id  release_date_y  \\\n",
       "0        NaN             NaT            NaN           NaN NaN             NaT   \n",
       "1      9.800      2018-11-02            7.0          64.0 NaN             NaT   \n",
       "2        NaN             NaT            NaN           NaN NaN             NaT   \n",
       "3        NaN             NaT            NaN           NaN NaN             NaT   \n",
       "4      2.813      2012-06-30            2.9          26.0 NaN             NaT   \n",
       "\n",
       "  production_budget  domestic_gross  worldwide_gross  \n",
       "0               NaN             NaN              NaN  \n",
       "1               NaN             NaN              NaN  \n",
       "2               NaN             NaN              NaN  \n",
       "3               NaN             NaN              NaN  \n",
       "4               NaN             NaN              NaN  \n",
       "\n",
       "[5 rows x 21 columns]"
      ]
     },
     "execution_count": 60,
     "metadata": {},
     "output_type": "execute_result"
    }
   ],
   "source": [
    "# Displaying the dataset to begin exploration\n",
    "movies_metadata.head()"
   ]
  },
  {
   "cell_type": "code",
   "execution_count": 61,
   "metadata": {},
   "outputs": [
    {
     "name": "stdout",
     "output_type": "stream",
     "text": [
      "<class 'pandas.core.frame.DataFrame'>\n",
      "Int64Index: 46287 entries, 0 to 46286\n",
      "Data columns (total 21 columns):\n",
      " #   Column             Non-Null Count  Dtype         \n",
      "---  ------             --------------  -----         \n",
      " 0   movie_id           36102 non-null  object        \n",
      " 1   title              46287 non-null  object        \n",
      " 2   original_title_x   36102 non-null  object        \n",
      " 3   release_year       36102 non-null  float64       \n",
      " 4   genres             36102 non-null  object        \n",
      " 5   vote_average_x     36102 non-null  float64       \n",
      " 6   vote_count_x       36102 non-null  float64       \n",
      " 7   log_vote_count     36102 non-null  float64       \n",
      " 8   genre_ids          11051 non-null  object        \n",
      " 9   tmdb_id            11051 non-null  float64       \n",
      " 10  language           11051 non-null  object        \n",
      " 11  original_title_y   11051 non-null  object        \n",
      " 12  popularity         11051 non-null  float64       \n",
      " 13  release_date_x     11051 non-null  datetime64[ns]\n",
      " 14  vote_average_y     11051 non-null  float64       \n",
      " 15  vote_count_y       11051 non-null  float64       \n",
      " 16  id                 6281 non-null   float64       \n",
      " 17  release_date_y     6281 non-null   datetime64[ns]\n",
      " 18  production_budget  6281 non-null   float64       \n",
      " 19  domestic_gross     6281 non-null   float64       \n",
      " 20  worldwide_gross    6281 non-null   float64       \n",
      "dtypes: datetime64[ns](2), float64(12), object(7)\n",
      "memory usage: 7.8+ MB\n"
     ]
    }
   ],
   "source": [
    "movies_metadata.info()"
   ]
  },
  {
   "cell_type": "code",
   "execution_count": 67,
   "metadata": {},
   "outputs": [],
   "source": [
    "# Convert release_year to datetime using a dummy date\n",
    "movies_metadata['release_date'] = pd.to_datetime(\n",
    "    movies_metadata['release_year'].astype('Int64').astype(str) + '-07-01', errors='coerce'\n",
    ")\n",
    "# Extract release month\n",
    "movies_metadata['release_month'] = movies_metadata['release_date'].dt.month\n",
    "# Log-transform vote count (handles 0 safely)\n",
    "movies_metadata['log_vote_count'] = np.log1p(movies_metadata['vote_count_x'])\n",
    "# Calculate ROI\n",
    "movies_metadata['roi'] = (\n",
    "    (movies_metadata['worldwide_gross'] - movies_metadata['production_budget']) /\n",
    "    movies_metadata['production_budget']\n",
    ")\n",
    "# Final columns to keep\n",
    "keep_cols = [\n",
    "    'movie_id', 'title', 'original_title_x', 'release_year', 'genres',\n",
    "    'vote_average_x', 'vote_count_x', 'log_vote_count', 'popularity',\n",
    "    'release_date', 'production_budget', 'domestic_gross',\n",
    "    'worldwide_gross', 'roi', 'release_month'\n",
    "]\n",
    "# Create cleaned DataFrame\n",
    "movies_metadata_cleaned = movies_metadata[keep_cols].copy()\n",
    "\n",
    "# Rename for clarity\n",
    "movies_metadata_cleaned.rename(columns={\n",
    "    'original_title_x': 'original_title',\n",
    "    'vote_average_x': 'vote_average',\n",
    "    'vote_count_x': 'vote_count'\n",
    "}, inplace=True)\n"
   ]
  },
  {
   "cell_type": "code",
   "execution_count": 63,
   "metadata": {},
   "outputs": [
    {
     "data": {
      "text/plain": [
       "roi                  40006\n",
       "worldwide_gross      40006\n",
       "domestic_gross       40006\n",
       "production_budget    40006\n",
       "popularity           35236\n",
       "release_month        10185\n",
       "release_date         10185\n",
       "log_vote_count       10185\n",
       "vote_count           10185\n",
       "vote_average         10185\n",
       "genres               10185\n",
       "release_year         10185\n",
       "original_title       10185\n",
       "movie_id             10185\n",
       "title                    0\n",
       "dtype: int64"
      ]
     },
     "execution_count": 63,
     "metadata": {},
     "output_type": "execute_result"
    }
   ],
   "source": [
    "# Null value count per column\n",
    "movies_metadata_cleaned.isnull().sum().sort_values(ascending=False)\n",
    "\n"
   ]
  },
  {
   "cell_type": "markdown",
   "metadata": {},
   "source": [
    "Due to combining multiple datasets with different coverage (e.g., tmdb, im.db, and tn.movies), the final merged dataset contains missing values in several fields. Instead of dropping rows, we’ll apply targeted filtering based on the specific recommendation. For example, ROI analysis will only use rows where financial data is available, while genre-based recommendations rely on ratings and genre fields."
   ]
  },
  {
   "cell_type": "code",
   "execution_count": 64,
   "metadata": {},
   "outputs": [
    {
     "data": {
      "text/plain": [
       "723"
      ]
     },
     "execution_count": 64,
     "metadata": {},
     "output_type": "execute_result"
    }
   ],
   "source": [
    "# cHECKING FOR DUPLICATES\n",
    "movies_metadata_cleaned.duplicated().sum()\n"
   ]
  },
  {
   "cell_type": "code",
   "execution_count": 65,
   "metadata": {},
   "outputs": [],
   "source": [
    "# Dropping duplicates only for movie ids\n",
    "movies_metadata_cleaned = movies_metadata_cleaned.drop_duplicates(subset='movie_id', keep='first')\n"
   ]
  },
  {
   "cell_type": "markdown",
   "metadata": {},
   "source": [
    "### Univariate analysis as well as cleaning where necessary\n",
    "We begin by examining the distribution of key individual variables in our dataset. This helps us understand general patterns, skewness, spread, and the presence of outliers, all of which inform how we treat the data in later analysis."
   ]
  },
  {
   "cell_type": "code",
   "execution_count": 66,
   "metadata": {},
   "outputs": [
    {
     "data": {
      "image/png": "[encoded data removed]",
      "text/plain": [
       "<Figure size 576x360 with 1 Axes>"
      ]
     },
     "metadata": {
      "needs_background": "light"
     },
     "output_type": "display_data"
    }
   ],
   "source": [
    "# Vote average\n",
    "plt.figure(figsize=(8, 5))\n",
    "sns.histplot(movies_metadata_cleaned['vote_average'], bins=20, kde=True, color='coral')\n",
    "plt.title('Distribution of Average User Ratings (vote_average)', fontsize=13)\n",
    "plt.xlabel('Average Rating')\n",
    "plt.ylabel('Number of Movies')\n",
    "plt.grid(True)\n",
    "plt.show()\n"
   ]
  },
  {
   "cell_type": "markdown",
   "metadata": {},
   "source": [
    "Average User Rating (vote_average) is normally distributed between 4 and 8, peaking around 6.5 to 7.\n",
    "This bell-shaped curve suggests consistent user perception across most movies, with very few extremely low or high ratings.\n"
   ]
  },
  {
   "cell_type": "code",
   "execution_count": 73,
   "metadata": {},
   "outputs": [
    {
     "data": {
      "image/png": "[encoded data removed]",
      "text/plain": [
       "<Figure size 576x288 with 1 Axes>"
      ]
     },
     "metadata": {
      "needs_background": "light"
     },
     "output_type": "display_data"
    }
   ],
   "source": [
    "# Vote count\n",
    "# Descrete variable(numeric)\n",
    "# Indicates how popular or widely rated a movie is.\n",
    "plt.figure(figsize=(8, 4))\n",
    "plt.hist(movies_metadata_cleaned['vote_count'], bins=20, color='steelblue', edgecolor='black')\n",
    "plt.title('Distribution of Vote Counts', fontsize=13)\n",
    "plt.xlabel('Number of Votes')\n",
    "plt.ylabel('Number of Movies')\n",
    "plt.grid(axis='y')\n",
    "plt.show()\n"
   ]
  },
  {
   "cell_type": "markdown",
   "metadata": {},
   "source": [
    "Vote Count (vote_count) shows a heavily right-skewed distribution — most movies have very few votes, while a small number receive tens of thousands.\n",
    "The median is a better summary statistic than the mean here due to extreme outliers.\n",
    "We did not remove outliers because they represent blockbuster movies critical to our ROI and popularity analysis."
   ]
  },
  {
   "cell_type": "code",
   "execution_count": 74,
   "metadata": {},
   "outputs": [
    {
     "data": {
      "image/png": "[encoded data removed]",
      "text/plain": [
       "<Figure size 576x201.6 with 1 Axes>"
      ]
     },
     "metadata": {
      "needs_background": "light"
     },
     "output_type": "display_data"
    }
   ],
   "source": [
    "# Popularity\n",
    "# Continous (numeric)\n",
    "# We want to see how much public attention a movie gets - useful for marketing and predicting success.\n",
    "plt.figure(figsize=(8, 2.8))\n",
    "plt.boxplot(movies_metadata_cleaned['popularity'].dropna(), vert=False, patch_artist=True,\n",
    "            boxprops=dict(facecolor='orange'))\n",
    "plt.title('Boxplot of Popularity Scores')\n",
    "plt.xlabel('Popularity')\n",
    "plt.show()\n"
   ]
  },
  {
   "cell_type": "markdown",
   "metadata": {},
   "source": [
    "Popularity is heavily right-skewed, with the vast majority of movies scoring under 10, while a few reach extremely high popularity scores.\n",
    "These outliers represent viral or high-profile releases, and are essential to retain.\n",
    "In such a case we use median to summarize the typical popularity and avoid bias from rare peaks."
   ]
  },
  {
   "cell_type": "code",
   "execution_count": 78,
   "metadata": {},
   "outputs": [
    {
     "data": {
      "image/png": "[encoded data removed]",
      "text/plain": [
       "<Figure size 576x180 with 1 Axes>"
      ]
     },
     "metadata": {
      "needs_background": "light"
     },
     "output_type": "display_data"
    }
   ],
   "source": [
    "# Return on Investment\n",
    "# ROI = (world_gross - production_budget)/ production_budget\n",
    "# Ideal for showing how a movie is prifitable in relation to its budget.(High return genres)\n",
    "plt.figure(figsize=(8, 2.5))\n",
    "sns.boxplot(x=movies_metadata_cleaned['roi'], color='green')\n",
    "plt.title('Boxplot of ROI', fontsize=12)\n",
    "plt.xlabel('ROI')\n",
    "plt.show()\n"
   ]
  },
  {
   "cell_type": "markdown",
   "metadata": {},
   "source": [
    "ROI has a very wide and right-skewed distribution, with many outliers — both extremely profitable films and some that lost money.\n",
    "\n",
    "We retain all ROI outliers, as these extreme cases (especially hits and flops) are essential to distributor and genre profitability analysis.\n",
    "\n",
    "For non-technical reporting, median ROI is more reliable than the mean, which is distorted by blockbuster outliers."
   ]
  },
  {
   "cell_type": "markdown",
   "metadata": {},
   "source": [
    "ROI was calculated only for records with complete financial data: production_budget and worldwide_gross.\n",
    "\n",
    "We did not impute or drop any outliers unless values were clearly invalid (negative budgets).\n",
    "The left cluster of tightly packed data: Most movies have low to moderate ROI (near 0 to 2), meaning they earned little profit compared to budget.\n",
    "\n",
    "The long right whisker and many distant dots: These are blockbusters — extremely profitable movies that returned many times their investment.\n",
    "\n",
    "The dots far outside the main box (e.g., at 100, 200, 400): These are statistical outliers, but they are valid business wins, not errors.\n"
   ]
  },
  {
   "cell_type": "code",
   "execution_count": 80,
   "metadata": {},
   "outputs": [
    {
     "data": {
      "image/png": "[encoded data removed]",
      "text/plain": [
       "<Figure size 720x432 with 1 Axes>"
      ]
     },
     "metadata": {
      "needs_background": "light"
     },
     "output_type": "display_data"
    }
   ],
   "source": [
    "# Genres \n",
    "# Categorical data\n",
    "# Most common genres\n",
    "# Explode multi-genre strings into rows\n",
    "genre_data = movies_metadata_cleaned.dropna(subset=['genres']).copy()\n",
    "genre_data['genres'] = genre_data['genres'].str.split(',')\n",
    "genre_data = genre_data.explode('genres')\n",
    "\n",
    "# Count top genres\n",
    "plt.figure(figsize=(10, 6))\n",
    "sns.countplot(y='genres', data=genre_data, order=genre_data['genres'].value_counts().index)\n",
    "plt.title('Most Common Genres in Dataset')\n",
    "plt.xlabel('Count')\n",
    "plt.ylabel('Genre')\n",
    "plt.grid(True)\n",
    "plt.tight_layout()\n",
    "plt.show()\n"
   ]
  },
  {
   "cell_type": "markdown",
   "metadata": {},
   "source": [
    "The bar plot shows the frequency of each genre in the dataset.\n",
    "Genres like Drama, Comedy, and Documentary dominate the catalog, reflecting common industry trends.\n",
    "This helps us focus future analysis on the most impactful genres with sufficient data."
   ]
  },
  {
   "cell_type": "code",
   "execution_count": 83,
   "metadata": {},
   "outputs": [
    {
     "data": {
      "image/png": "[encoded data removed]",
      "text/plain": [
       "<Figure size 864x432 with 1 Axes>"
      ]
     },
     "metadata": {
      "needs_background": "light"
     },
     "output_type": "display_data"
    }
   ],
   "source": [
    "# Release year\n",
    "# time(continous)\n",
    "# To see how many movies were released over time\n",
    "# Drop missing years and filter realistic range\n",
    "release_data = movies_metadata_cleaned.dropna(subset=['release_year'])\n",
    "release_data = release_data[(release_data['release_year'] >= 2015) & (release_data['release_year'] <= 2025)]\n",
    "plt.figure(figsize=(12, 6))\n",
    "sns.histplot(release_data['release_year'], bins=45, kde=False)\n",
    "plt.title('Distribution of Movies by Release Year')\n",
    "plt.xlabel('Release Year')\n",
    "plt.ylabel('Number of Movies')\n",
    "plt.grid(True)\n",
    "plt.tight_layout()\n",
    "plt.show()\n"
   ]
  },
  {
   "cell_type": "markdown",
   "metadata": {},
   "source": [
    "The histogram reveals an varying trend in movie production from 2015 to 2025, followed by a drop-off — likely due to data completeness or recent production changes.\n",
    "This temporal insight supports analysis of recent trends or isolating modern films for ROI analysis."
   ]
  },
  {
   "cell_type": "markdown",
   "metadata": {},
   "source": [
    "### Bivariate analysis and Cleaning where necessary\n",
    "Bivariate analysis helps us explore relationships between two variables. It provides insight into how one variable influences or interacts with another. a crucial step for building informed recommendations.\n",
    "\n",
    "In this project, bivariate analysis supports our core business goals by answering questions like:-\n",
    "Do certain genres consistently receive higher viewer ratings?\n",
    "Are some genres more likely to achieve better financial returns (ROI)?\n",
    "Does the release year or month correlate with better performance?\n",
    "This analysis directly supports our recommendations on what kinds of movies to produce and when to release them."
   ]
  },
  {
   "cell_type": "code",
   "execution_count": 85,
   "metadata": {},
   "outputs": [
    {
     "data": {
      "image/png": "[encoded data removed]",
      "text/plain": [
       "<Figure size 864x432 with 1 Axes>"
      ]
     },
     "metadata": {
      "needs_background": "light"
     },
     "output_type": "display_data"
    }
   ],
   "source": [
    "# Genres vs. Vote average\n",
    "# drop missing, split & explode genres\n",
    "genre_vote = movies_metadata_cleaned.dropna(subset=['genres', 'vote_average']).copy()\n",
    "genre_vote['genres'] = genre_vote['genres'].str.split(',')\n",
    "genre_vote = genre_vote.explode('genres')\n",
    "# limit to top 10 genres for readability\n",
    "top_genres = genre_vote['genres'].value_counts().nlargest(10).index\n",
    "genre_vote = genre_vote[genre_vote['genres'].isin(top_genres)]\n",
    "# Violin Plot\n",
    "plt.figure(figsize=(12, 6))\n",
    "sns.violinplot(data=genre_vote, x='vote_average', y='genres', inner='quartile', palette=\"muted\")\n",
    "plt.title('Vote Average by Genre (Violin Plot)')\n",
    "plt.xlabel('Vote Average')\n",
    "plt.ylabel('Genre')\n",
    "plt.grid(True)\n",
    "plt.tight_layout()\n",
    "plt.show()"
   ]
  },
  {
   "cell_type": "markdown",
   "metadata": {},
   "source": [
    "Documentary, War, and History genres consistently show higher median ratings.\n",
    "\n",
    "Genres like Horror and Action show wider variation, indicating less consistent reception.\n",
    "\n",
    "Median ratings are a more reliable summary than the mean due to the presence of skew and outliers."
   ]
  },
  {
   "cell_type": "code",
   "execution_count": 87,
   "metadata": {},
   "outputs": [
    {
     "data": {
      "image/png": "[encoded data removed]",
      "text/plain": [
       "<Figure size 864x432 with 1 Axes>"
      ]
     },
     "metadata": {
      "needs_background": "light"
     },
     "output_type": "display_data"
    }
   ],
   "source": [
    "# Genres vs. ROI\n",
    "# drop missing, split & explode genres\n",
    "genre_roi = movies_metadata_cleaned.dropna(subset=['genres', 'roi']).copy()\n",
    "genre_roi['genres'] = genre_roi['genres'].str.split(',')\n",
    "genre_roi = genre_roi.explode('genres')\n",
    "# Limit to top 10 genres\n",
    "top_genres_roi = genre_roi['genres'].value_counts().nlargest(10).index\n",
    "genre_roi = genre_roi[genre_roi['genres'].isin(top_genres_roi)]\n",
    "# Box Plot\n",
    "plt.figure(figsize=(12, 6))\n",
    "sns.boxplot(data=genre_roi, x='roi', y='genres')\n",
    "plt.title('ROI Distribution by Genre (Box Plot)')\n",
    "plt.xlabel('Return on Investment (ROI)')\n",
    "plt.ylabel('Genre')\n",
    "plt.grid(True)\n",
    "plt.tight_layout()\n",
    "plt.show()\n"
   ]
  },
  {
   "cell_type": "markdown",
   "metadata": {},
   "source": [
    "### key insights\n",
    "Most genres have ROI values heavily concentrated near the lower end, with many outliers far to the right — indicating that a few movies per genre generate exceptionally high returns.\n",
    "\n",
    "Genres such as Horror, Thriller, and Documentary show higher outlier ROI values, suggesting that some low-budget productions within these genres become highly profitable.\n",
    "\n",
    "On the other hand, genres like Drama and Romance show more consistent ROI distributions, with fewer extreme values but also fewer exceptionally profitable outliers.\n",
    "\n",
    "Action and Adventure have a wide spread, suggesting both high-risk and high-reward dynamics.\n",
    "\n",
    "### conclusion\n",
    "Genres such as Horror and Documentary may offer lower upfront production costs and higher return potential, albeit with higher variability.\n",
    "\n",
    "These insights are critical for studios aiming to maximize ROI by genre selection — balancing reliability (e.g., Drama) vs. high-potential risk (e.g., Horror)."
   ]
  },
  {
   "cell_type": "code",
   "execution_count": null,
   "metadata": {},
   "outputs": [],
   "source": [
    "# Release year vs. ROI\n",
    "# We want to understand how film profitability have evolved over time.\n"
   ]
  }
 ],
 "metadata": {
  "kernelspec": {
   "display_name": "Python (learn-env)",
   "language": "python",
   "name": "learn-env"
  }
 },
 "nbformat": 4,
 "nbformat_minor": 2
}
